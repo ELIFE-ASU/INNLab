{
 "cells": [
  {
   "cell_type": "code",
   "execution_count": 1,
   "metadata": {
    "ExecuteTime": {
     "end_time": "2021-04-25T02:33:37.153887Z",
     "start_time": "2021-04-25T02:33:36.753284Z"
    }
   },
   "outputs": [],
   "source": [
    "import INN\n",
    "import torch\n",
    "import torch.nn as nn"
   ]
  },
  {
   "cell_type": "code",
   "execution_count": 10,
   "metadata": {
    "ExecuteTime": {
     "end_time": "2021-04-25T02:34:05.984990Z",
     "start_time": "2021-04-25T02:34:05.977929Z"
    }
   },
   "outputs": [
    {
     "data": {
      "text/plain": [
       "''"
      ]
     },
     "execution_count": 10,
     "metadata": {},
     "output_type": "execute_result"
    }
   ],
   "source": [
    "model = INN.Sequential(INN.Nonlinear(dim=3, method='RealNVP'),\n",
    "                       INN.BatchNorm1d(3),\n",
    "                       INN.Nonlinear(dim=3, method='RealNVP'))\n",
    "model.eval()\n",
    "''"
   ]
  },
  {
   "cell_type": "code",
   "execution_count": 6,
   "metadata": {
    "ExecuteTime": {
     "end_time": "2021-04-25T02:33:48.217736Z",
     "start_time": "2021-04-25T02:33:48.211622Z"
    }
   },
   "outputs": [],
   "source": [
    "model = INN.BatchNorm1d(3)\n",
    "#model.running_var = torch.Tensor([2,2,2])\n",
    "#model.eval()"
   ]
  },
  {
   "cell_type": "code",
   "execution_count": 3,
   "metadata": {
    "ExecuteTime": {
     "end_time": "2021-04-25T02:33:39.792666Z",
     "start_time": "2021-04-25T02:33:39.786716Z"
    }
   },
   "outputs": [],
   "source": [
    "def linear_Jacobian_matrix(model, x):\n",
    "    batch_size, dim = x.shape\n",
    "    x.requires_grad = True\n",
    "    model.computing_p(True)\n",
    "    model.eval()\n",
    "    y, log_p, log_det = model(x)\n",
    "    \n",
    "    grad_list = []\n",
    "    for i in range(dim):\n",
    "        v = torch.zeros((batch_size, dim))\n",
    "        v[:, i] = 1\n",
    "        grad = INN.utilities.vjp(y, x, v)[0]\n",
    "        grad_list.append(grad.detach())\n",
    "    return torch.stack(grad_list, dim=1), log_det"
   ]
  },
  {
   "cell_type": "code",
   "execution_count": 4,
   "metadata": {
    "ExecuteTime": {
     "end_time": "2021-04-25T02:33:40.163506Z",
     "start_time": "2021-04-25T02:33:40.156869Z"
    }
   },
   "outputs": [],
   "source": [
    "x = torch.randn((4, 3))"
   ]
  },
  {
   "cell_type": "code",
   "execution_count": 9,
   "metadata": {
    "ExecuteTime": {
     "end_time": "2021-04-25T02:33:58.065768Z",
     "start_time": "2021-04-25T02:33:58.044200Z"
    }
   },
   "outputs": [
    {
     "name": "stdout",
     "output_type": "stream",
     "text": [
      "ground truth=tensor([-2.3765, -1.4822, -1.9907, -1.3673]),\n",
      "output=tensor([-2.3765, -1.4822, -1.9907, -1.3673], grad_fn=<AddBackward0>)\n"
     ]
    }
   ],
   "source": [
    "Js, log_det = linear_Jacobian_matrix(model, x)\n",
    "real_log_det = torch.log(torch.abs(torch.det(Js)))\n",
    "\n",
    "print(f'ground truth={real_log_det},\\noutput={log_det}')"
   ]
  },
  {
   "cell_type": "markdown",
   "metadata": {},
   "source": [
    "## Bug lists"
   ]
  },
  {
   "cell_type": "markdown",
   "metadata": {},
   "source": [
    "1. `INN.BatchNorm1d()` fails on Jacobian tests\n",
    "2. `INN.iResNet()` has large differece to the ground-truth!"
   ]
  },
  {
   "cell_type": "code",
   "execution_count": null,
   "metadata": {},
   "outputs": [],
   "source": []
  }
 ],
 "metadata": {
  "kernelspec": {
   "display_name": "Python 3",
   "language": "python",
   "name": "python3"
  },
  "language_info": {
   "codemirror_mode": {
    "name": "ipython",
    "version": 3
   },
   "file_extension": ".py",
   "mimetype": "text/x-python",
   "name": "python",
   "nbconvert_exporter": "python",
   "pygments_lexer": "ipython3",
   "version": "3.7.5"
  },
  "toc": {
   "base_numbering": 1,
   "nav_menu": {},
   "number_sections": true,
   "sideBar": true,
   "skip_h1_title": false,
   "title_cell": "Table of Contents",
   "title_sidebar": "Contents",
   "toc_cell": false,
   "toc_position": {},
   "toc_section_display": true,
   "toc_window_display": false
  }
 },
 "nbformat": 4,
 "nbformat_minor": 4
}
