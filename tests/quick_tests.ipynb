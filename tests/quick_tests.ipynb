{
 "cells": [
  {
   "cell_type": "code",
   "execution_count": 1,
   "metadata": {
    "ExecuteTime": {
     "end_time": "2021-04-27T19:00:16.170087Z",
     "start_time": "2021-04-27T19:00:15.767554Z"
    }
   },
   "outputs": [],
   "source": [
    "import INN\n",
    "import torch\n",
    "import torch.nn as nn"
   ]
  },
  {
   "cell_type": "code",
   "execution_count": 4,
   "metadata": {
    "ExecuteTime": {
     "end_time": "2021-04-25T20:26:56.449298Z",
     "start_time": "2021-04-25T20:26:56.436239Z"
    }
   },
   "outputs": [],
   "source": [
    "model = INN.Sequential(INN.Nonlinear(dim=3, method='NICE'),\n",
    "                       INN.BatchNorm1d(3),\n",
    "                       INN.Nonlinear(dim=3, method='NICE'), INN.ResizeFeatures(3, 1))\n",
    "model.eval()\n",
    "\n",
    "x = torch.Tensor([[1,2,3],[4,5,6]])\n",
    "y, logp, logdet = model(x)"
   ]
  },
  {
   "cell_type": "code",
   "execution_count": 8,
   "metadata": {},
   "outputs": [
    {
     "output_type": "execute_result",
     "data": {
      "text/plain": [
       "(tensor([[0., 0.],\n",
       "         [0., 0.]], grad_fn=<AddmmBackward>), tensor([[1., 1.],\n",
       "         [1., 1.]], grad_fn=<AddBackward0>), tensor([-0., -0.], grad_fn=<MulBackward0>))"
      ]
     },
     "metadata": {},
     "execution_count": 8
    }
   ],
   "source": [
    "model[-1].mu_var(y)"
   ]
  },
  {
   "cell_type": "code",
   "execution_count": null,
   "metadata": {},
   "outputs": [],
   "source": [
    "model."
   ]
  },
  {
   "cell_type": "code",
   "execution_count": 19,
   "metadata": {},
   "outputs": [
    {
     "output_type": "execute_result",
     "data": {
      "text/plain": [
       "(tensor([[[-0.9920, -0.2657,  1.4083,  0.2213, -1.0507,  2.0254,  0.7112,\n",
       "           -0.5681, -1.5983, -1.0722]],\n",
       " \n",
       "         [[-0.0923, -0.2650,  0.1913,  0.2566, -0.2029,  1.2661, -1.0854,\n",
       "            0.7446, -0.8261,  1.0681]]], grad_fn=<SliceBackward>),\n",
       " tensor([-29.1110, -26.3051], grad_fn=<AddBackward0>),\n",
       " tensor([-0.0002, -0.0002], grad_fn=<AddBackward0>))"
      ]
     },
     "metadata": {},
     "execution_count": 19
    }
   ],
   "source": [
    "model = INN.Sequential(INN.Conv1d(channels=3, kernel_size=3),\n",
    "                       INN.BatchNorm1d(3),\n",
    "                       INN.Conv1d(channels=3, kernel_size=3), INN.ResizeFeatures(3, 1))\n",
    "model.eval()\n",
    "\n",
    "model(torch.randn(2, 3, 10))"
   ]
  },
  {
   "cell_type": "code",
   "execution_count": 21,
   "metadata": {},
   "outputs": [
    {
     "output_type": "execute_result",
     "data": {
      "text/plain": [
       "(tensor([[[[ 8.7071e-01, -1.0464e-01,  1.8869e+00,  6.9060e-01, -6.1016e-01,\n",
       "             7.2888e-01,  3.8579e-01,  2.2335e-01,  1.7959e+00,  9.0549e-01],\n",
       "           [ 2.8548e-01, -3.1185e-01,  1.0732e-01, -1.5369e+00,  3.5932e+00,\n",
       "             4.3840e-01,  9.0574e-01, -1.0931e+00,  1.4590e+00,  5.4487e-01],\n",
       "           [ 6.4883e-01,  1.1075e+00,  1.0550e+00, -8.8358e-01,  9.2693e-01,\n",
       "            -5.9010e-01, -9.1532e-01,  4.3711e-01,  3.1616e-01,  3.0101e-01],\n",
       "           [ 5.5267e-02, -1.4526e+00,  1.5323e+00,  2.7392e+00,  9.4440e-01,\n",
       "             4.0911e-01,  1.8262e+00,  6.6810e-01,  2.2713e+00,  8.9356e-01],\n",
       "           [ 3.4218e-01,  2.2446e+00,  2.3920e+00, -1.4815e-01,  1.2369e+00,\n",
       "             4.8425e-01,  2.4357e+00,  8.1294e-01,  1.8401e+00, -6.3576e-01],\n",
       "           [ 1.4237e-01, -5.6217e-01,  1.0157e+00,  2.8890e-02, -8.4484e-01,\n",
       "             2.2992e+00,  6.5947e-01,  3.2364e-01,  4.5920e-01,  1.1230e+00],\n",
       "           [-5.0275e-01, -6.3960e-01,  1.0207e+00,  2.1764e-01,  1.0716e-03,\n",
       "             1.4699e-01,  9.5890e-01,  2.0664e+00,  6.7993e-01,  2.6726e-01],\n",
       "           [-8.0639e-01,  1.5819e+00,  1.6171e+00, -6.3085e-02, -3.9552e-01,\n",
       "            -1.0186e+00, -1.4565e-01,  5.6508e-01, -5.5219e-01, -7.6698e-01],\n",
       "           [ 3.0267e-01, -1.7507e+00,  6.6929e-01,  1.5298e+00,  9.8123e-01,\n",
       "            -5.0531e-01,  1.2454e+00,  1.7455e-01, -5.1355e-02, -2.1999e+00],\n",
       "           [ 1.1515e+00,  1.7349e-01, -1.9470e+00, -2.3920e-01,  2.4812e-01,\n",
       "             7.7187e-01,  9.9450e-01,  1.4020e-01, -1.5674e+00,  4.8074e-01]]],\n",
       " \n",
       " \n",
       "         [[[-6.3042e-01, -1.1160e+00,  7.6202e-01,  1.9358e-01,  1.7541e+00,\n",
       "             9.4143e-01, -9.1120e-02,  2.2433e+00, -1.3032e+00,  1.2302e+00],\n",
       "           [ 8.0954e-01,  3.0763e-02,  9.3189e-01,  1.0798e+00,  1.2342e+00,\n",
       "             1.9201e+00, -1.5440e-01, -1.1236e+00,  2.4448e-01, -1.6655e+00],\n",
       "           [ 1.1738e-01,  2.1189e+00,  6.6490e-01,  6.6626e-01,  4.6433e-01,\n",
       "            -2.1752e-01, -5.5178e-01,  2.0141e+00,  1.2414e+00,  6.3346e-01],\n",
       "           [ 1.2501e+00, -6.8806e-01,  1.2144e+00, -9.6532e-02,  8.3035e-01,\n",
       "             1.2895e+00, -1.8604e+00,  5.9443e-01,  2.5735e-01, -7.1341e-01],\n",
       "           [ 2.4864e+00,  3.8491e-01, -3.1809e-02,  2.0736e+00, -3.5377e-01,\n",
       "             9.6615e-01,  7.8496e-01, -5.6441e-01,  3.0590e-01,  6.4514e-02],\n",
       "           [ 9.4905e-03,  2.2634e-01, -1.2797e+00, -7.7321e-01,  3.3548e+00,\n",
       "             2.0439e+00,  1.4995e-01,  5.7295e-01, -9.6212e-01,  4.0624e-01],\n",
       "           [ 1.8035e+00, -1.5220e+00,  2.0234e+00, -7.9122e-01,  5.6054e-01,\n",
       "             3.3585e-01,  9.9729e-01, -3.7226e-01, -1.5072e+00,  8.7665e-02],\n",
       "           [ 2.6299e-01, -9.9898e-01,  5.9586e-01,  5.7520e-01,  1.2340e+00,\n",
       "             9.3319e-01, -1.7999e+00,  5.5955e-01, -1.4528e-01, -6.5789e-01],\n",
       "           [ 2.0949e-01, -2.0361e+00, -2.2026e-01, -1.0186e+00, -6.1503e-01,\n",
       "             5.8115e-01,  4.6562e-01,  3.9114e-01,  1.6610e+00,  4.3074e-01],\n",
       "           [ 6.5647e-01,  7.9675e-01,  1.1080e+00, -1.3082e+00,  3.2782e-01,\n",
       "            -3.7917e-01, -7.9476e-01,  1.2315e+00, -4.1908e-01, -1.1220e+00]]]],\n",
       "        grad_fn=<SliceBackward>),\n",
       " tensor([-216.2058, -215.4024], grad_fn=<AddBackward0>),\n",
       " tensor([-0.0015, -0.0015], grad_fn=<AddBackward0>))"
      ]
     },
     "metadata": {},
     "execution_count": 21
    }
   ],
   "source": [
    "model = INN.Sequential(INN.Conv2d(channels=3, kernel_size=3),\n",
    "                       INN.BatchNorm2d(3),\n",
    "                       INN.Conv2d(channels=3, kernel_size=3), INN.ResizeFeatures(3, 1))\n",
    "model.eval()\n",
    "\n",
    "model(torch.randn(2, 3, 10, 10))"
   ]
  },
  {
   "cell_type": "code",
   "execution_count": 2,
   "metadata": {
    "ExecuteTime": {
     "end_time": "2021-04-25T20:26:37.191921Z",
     "start_time": "2021-04-25T20:26:37.186587Z"
    }
   },
   "outputs": [],
   "source": [
    "model = INN.BatchNorm1d(3)#INN.Nonlinear(dim=3, method='iResNet', num_n=100, num_iter=50)"
   ]
  },
  {
   "cell_type": "code",
   "execution_count": 3,
   "metadata": {
    "ExecuteTime": {
     "end_time": "2021-04-25T20:26:38.913606Z",
     "start_time": "2021-04-25T20:26:38.908206Z"
    }
   },
   "outputs": [],
   "source": [
    "def linear_Jacobian_matrix(model, x):\n",
    "    batch_size, dim = x.shape\n",
    "    x.requires_grad = True\n",
    "    model.computing_p(True)\n",
    "    y, log_p, log_det = model(x)\n",
    "    \n",
    "    grad_list = []\n",
    "    for i in range(dim):\n",
    "        v = torch.zeros((batch_size, dim))\n",
    "        v[:, i] = 1\n",
    "        grad = INN.utilities.vjp(y, x, v)[0]\n",
    "        grad_list.append(grad.detach())\n",
    "    return torch.stack(grad_list, dim=1), log_det"
   ]
  },
  {
   "cell_type": "code",
   "execution_count": 4,
   "metadata": {
    "ExecuteTime": {
     "end_time": "2021-04-25T20:26:39.163142Z",
     "start_time": "2021-04-25T20:26:39.156964Z"
    }
   },
   "outputs": [],
   "source": [
    "def Jacobian_matrix(model, x):\n",
    "    shape = x.shape\n",
    "    dim = int(torch.prod(torch.Tensor(list(x.shape))).item())\n",
    "    repeats = [dim]\n",
    "    for i in range(len(x.shape)):\n",
    "        repeats.append(1)\n",
    "    \n",
    "    x_hat = x.unsqueeze(0).repeat(tuple(repeats))\n",
    "    x_hat.requires_grad = True\n",
    "    model.computing_p(True)\n",
    "    y, log_p, log_det = model(x_hat)\n",
    "    \n",
    "    v = torch.diag(torch.ones(dim)).reshape((dim, *x.shape))\n",
    "    grad = INN.utilities.vjp(y, x_hat, v)[0]\n",
    "    \n",
    "    return grad.detach(), log_det.detach()"
   ]
  },
  {
   "cell_type": "code",
   "execution_count": 5,
   "metadata": {
    "ExecuteTime": {
     "end_time": "2021-04-25T20:26:40.478075Z",
     "start_time": "2021-04-25T20:26:40.472116Z"
    }
   },
   "outputs": [],
   "source": [
    "x = torch.randn(3)"
   ]
  },
  {
   "cell_type": "code",
   "execution_count": 10,
   "metadata": {
    "ExecuteTime": {
     "end_time": "2021-04-25T20:26:58.975751Z",
     "start_time": "2021-04-25T20:26:58.958737Z"
    }
   },
   "outputs": [
    {
     "data": {
      "text/plain": [
       "tensor([[ 1.0207,  0.7147,  0.1159],\n",
       "        [ 0.3893,  1.9171, -0.6180],\n",
       "        [ 0.4169, -0.0570,  1.0998]])"
      ]
     },
     "execution_count": 10,
     "metadata": {},
     "output_type": "execute_result"
    }
   ],
   "source": [
    "model.eps = 1e-5\n",
    "J, log_det = Jacobian_matrix(model, x)\n",
    "J"
   ]
  },
  {
   "cell_type": "code",
   "execution_count": 11,
   "metadata": {
    "ExecuteTime": {
     "end_time": "2021-04-25T20:27:00.256497Z",
     "start_time": "2021-04-25T20:27:00.250922Z"
    }
   },
   "outputs": [
    {
     "data": {
      "text/plain": [
       "tensor(0.4258)"
      ]
     },
     "execution_count": 11,
     "metadata": {},
     "output_type": "execute_result"
    }
   ],
   "source": [
    "torch.log(torch.abs(torch.det(J)))"
   ]
  },
  {
   "cell_type": "code",
   "execution_count": 12,
   "metadata": {
    "ExecuteTime": {
     "end_time": "2021-04-25T20:27:00.812211Z",
     "start_time": "2021-04-25T20:27:00.802256Z"
    }
   },
   "outputs": [
    {
     "data": {
      "text/plain": [
       "tensor(0.4258)"
      ]
     },
     "execution_count": 12,
     "metadata": {},
     "output_type": "execute_result"
    }
   ],
   "source": [
    "torch.mean(log_det)"
   ]
  },
  {
   "cell_type": "code",
   "execution_count": 14,
   "metadata": {
    "ExecuteTime": {
     "end_time": "2021-04-25T20:27:57.577833Z",
     "start_time": "2021-04-25T20:27:57.573240Z"
    }
   },
   "outputs": [],
   "source": [
    "x = torch.randn((6, 3))"
   ]
  },
  {
   "cell_type": "code",
   "execution_count": 15,
   "metadata": {
    "ExecuteTime": {
     "end_time": "2021-04-25T20:27:57.883569Z",
     "start_time": "2021-04-25T20:27:57.873327Z"
    }
   },
   "outputs": [
    {
     "name": "stdout",
     "output_type": "stream",
     "text": [
      "J_g=tensor([ 1.9498, -0.0728,  1.3574,  0.7588,  1.3956,  0.7595]),\n",
      "J_c=tensor([ 1.9498, -0.0728,  1.3574,  0.7588,  1.3956,  0.7595])\n"
     ]
    }
   ],
   "source": [
    "model.eval()\n",
    "Js, log_det = linear_Jacobian_matrix(model, x)\n",
    "real_log_det = torch.log(torch.abs(torch.det(Js)))\n",
    "\n",
    "print(f'J_g={real_log_det},\\nJ_c={log_det.detach()}')"
   ]
  },
  {
   "cell_type": "code",
   "execution_count": 16,
   "metadata": {
    "ExecuteTime": {
     "end_time": "2021-04-25T20:28:05.686690Z",
     "start_time": "2021-04-25T20:28:05.681378Z"
    }
   },
   "outputs": [
    {
     "data": {
      "text/plain": [
       "tensor([[ 1.9760, -1.3065,  1.2205],\n",
       "        [ 0.5567, -0.8171, -1.6935],\n",
       "        [ 0.0597,  2.1638,  2.1138]])"
      ]
     },
     "execution_count": 16,
     "metadata": {},
     "output_type": "execute_result"
    }
   ],
   "source": [
    "Js[0]"
   ]
  },
  {
   "cell_type": "code",
   "execution_count": 46,
   "metadata": {
    "ExecuteTime": {
     "end_time": "2021-04-25T05:04:11.505096Z",
     "start_time": "2021-04-25T05:04:11.498678Z"
    }
   },
   "outputs": [
    {
     "data": {
      "text/plain": [
       "tensor(0.7945, grad_fn=<SumBackward0>)"
      ]
     },
     "execution_count": 46,
     "metadata": {},
     "output_type": "execute_result"
    }
   ],
   "source": [
    "torch.sum(-1 * torch.log(torch.var(x, dim=0, unbiased=False) + model.eps) / 2)"
   ]
  },
  {
   "cell_type": "markdown",
   "metadata": {},
   "source": [
    "## Bug lists"
   ]
  },
  {
   "cell_type": "markdown",
   "metadata": {},
   "source": [
    "1. `INN.BatchNorm1d()` fails on Jacobian tests [fixed]\n",
    "2. `INN.iResNet()` has large differece to the ground-truth!"
   ]
  },
  {
   "cell_type": "code",
   "execution_count": 53,
   "metadata": {
    "ExecuteTime": {
     "end_time": "2021-04-25T06:08:33.394253Z",
     "start_time": "2021-04-25T06:08:33.389501Z"
    }
   },
   "outputs": [],
   "source": [
    "model = nn.BatchNorm1d(3, affine=False)"
   ]
  },
  {
   "cell_type": "code",
   "execution_count": 54,
   "metadata": {
    "ExecuteTime": {
     "end_time": "2021-04-25T06:08:34.278052Z",
     "start_time": "2021-04-25T06:08:34.272396Z"
    }
   },
   "outputs": [
    {
     "data": {
      "text/plain": [
       "tensor([0., 0., 0.])"
      ]
     },
     "execution_count": 54,
     "metadata": {},
     "output_type": "execute_result"
    }
   ],
   "source": [
    "model.running_mean"
   ]
  },
  {
   "cell_type": "code",
   "execution_count": 55,
   "metadata": {
    "ExecuteTime": {
     "end_time": "2021-04-25T06:08:34.873855Z",
     "start_time": "2021-04-25T06:08:34.866593Z"
    }
   },
   "outputs": [
    {
     "data": {
      "text/plain": [
       "tensor([[-0.3725, -0.3559, -1.4208],\n",
       "        [ 0.7690,  0.1532,  0.9104],\n",
       "        [ 0.9525, -0.5532, -0.3847],\n",
       "        [-2.0273,  0.2497,  1.6467],\n",
       "        [ 0.4455,  1.8891, -0.3031],\n",
       "        [ 0.2327, -1.3830, -0.4485]], grad_fn=<NativeBatchNormBackward>)"
      ]
     },
     "execution_count": 55,
     "metadata": {},
     "output_type": "execute_result"
    }
   ],
   "source": [
    "model(x)"
   ]
  },
  {
   "cell_type": "code",
   "execution_count": 60,
   "metadata": {
    "ExecuteTime": {
     "end_time": "2021-04-25T06:09:38.944101Z",
     "start_time": "2021-04-25T06:09:38.937688Z"
    }
   },
   "outputs": [
    {
     "data": {
      "text/plain": [
       "tensor([[-0.3725, -0.3559, -1.4208],\n",
       "        [ 0.7690,  0.1532,  0.9104],\n",
       "        [ 0.9525, -0.5532, -0.3847],\n",
       "        [-2.0273,  0.2497,  1.6467],\n",
       "        [ 0.4455,  1.8891, -0.3031],\n",
       "        [ 0.2327, -1.3830, -0.4485]], grad_fn=<DivBackward0>)"
      ]
     },
     "execution_count": 60,
     "metadata": {},
     "output_type": "execute_result"
    }
   ],
   "source": [
    "var = torch.var(x, dim=0, unbiased=False)\n",
    "mean = torch.mean(x, dim=0)\n",
    "\n",
    "(x - mean) / torch.sqrt(var + model.eps)"
   ]
  },
  {
   "cell_type": "code",
   "execution_count": 17,
   "metadata": {
    "ExecuteTime": {
     "end_time": "2021-04-25T20:51:57.518139Z",
     "start_time": "2021-04-25T20:51:57.513012Z"
    }
   },
   "outputs": [],
   "source": [
    "x = torch.randn((5, 3))\n",
    "bn = nn.BatchNorm1d(3, affine=False)"
   ]
  },
  {
   "cell_type": "code",
   "execution_count": 18,
   "metadata": {
    "ExecuteTime": {
     "end_time": "2021-04-25T20:51:58.028429Z",
     "start_time": "2021-04-25T20:51:58.009478Z"
    }
   },
   "outputs": [
    {
     "data": {
      "text/plain": [
       "tensor([[-1.6941,  0.2933, -0.2451],\n",
       "        [-0.1313, -0.2711,  1.4740],\n",
       "        [ 0.2754, -0.2282,  0.4445],\n",
       "        [ 0.1287, -1.4409, -0.0721],\n",
       "        [ 1.4213,  1.6469, -1.6014]])"
      ]
     },
     "execution_count": 18,
     "metadata": {},
     "output_type": "execute_result"
    }
   ],
   "source": [
    "bn(x)"
   ]
  },
  {
   "cell_type": "code",
   "execution_count": 5,
   "metadata": {
    "ExecuteTime": {
     "end_time": "2021-04-27T17:12:07.640150Z",
     "start_time": "2021-04-27T17:12:07.636955Z"
    }
   },
   "outputs": [],
   "source": [
    "x = torch.randn((3,3,3))"
   ]
  },
  {
   "cell_type": "code",
   "execution_count": 29,
   "metadata": {
    "ExecuteTime": {
     "end_time": "2021-04-27T00:32:17.029541Z",
     "start_time": "2021-04-27T00:32:17.023938Z"
    }
   },
   "outputs": [
    {
     "data": {
      "text/plain": [
       "[3, 3, 3]"
      ]
     },
     "execution_count": 29,
     "metadata": {},
     "output_type": "execute_result"
    }
   ],
   "source": [
    "list(x.shape)"
   ]
  },
  {
   "cell_type": "code",
   "execution_count": 26,
   "metadata": {
    "ExecuteTime": {
     "end_time": "2021-04-27T00:31:57.709249Z",
     "start_time": "2021-04-27T00:31:57.701963Z"
    }
   },
   "outputs": [
    {
     "ename": "AttributeError",
     "evalue": "attribute 'shape' of 'torch._C._TensorBase' objects is not writable",
     "output_type": "error",
     "traceback": [
      "\u001b[0;31m---------------------------------------------------------------------------\u001b[0m",
      "\u001b[0;31mAttributeError\u001b[0m                            Traceback (most recent call last)",
      "\u001b[0;32m<ipython-input-26-2924dc973659>\u001b[0m in \u001b[0;36m<module>\u001b[0;34m\u001b[0m\n\u001b[0;32m----> 1\u001b[0;31m \u001b[0mx\u001b[0m\u001b[0;34m.\u001b[0m\u001b[0mshape\u001b[0m \u001b[0;34m=\u001b[0m \u001b[0;36m5\u001b[0m\u001b[0;34m\u001b[0m\u001b[0;34m\u001b[0m\u001b[0m\n\u001b[0m",
      "\u001b[0;31mAttributeError\u001b[0m: attribute 'shape' of 'torch._C._TensorBase' objects is not writable"
     ]
    }
   ],
   "source": [
    "x.shape = 5"
   ]
  },
  {
   "cell_type": "code",
   "execution_count": 31,
   "metadata": {
    "ExecuteTime": {
     "end_time": "2021-04-27T00:39:07.586468Z",
     "start_time": "2021-04-27T00:39:07.581351Z"
    }
   },
   "outputs": [
    {
     "data": {
      "text/plain": [
       "[5]"
      ]
     },
     "execution_count": 31,
     "metadata": {},
     "output_type": "execute_result"
    }
   ],
   "source": [
    "[1,2,3,4,5][4:]"
   ]
  },
  {
   "cell_type": "markdown",
   "metadata": {},
   "source": [
    "# New Modules"
   ]
  },
  {
   "cell_type": "markdown",
   "metadata": {},
   "source": [
    "## Conv1d"
   ]
  },
  {
   "cell_type": "code",
   "execution_count": 48,
   "metadata": {
    "ExecuteTime": {
     "end_time": "2021-04-27T17:32:33.018092Z",
     "start_time": "2021-04-27T17:32:33.011748Z"
    }
   },
   "outputs": [],
   "source": [
    "class _default_1d_coupling_function(nn.Module):\n",
    "    def __init__(self, channels, kernel_size, activation_fn=nn.ReLU, w=4):\n",
    "        super(_default_1d_coupling_function, self).__init__()\n",
    "        if kernel_size % 2 != 1:\n",
    "            raise ValueError(f'kernel_size must be an odd number, but got {kernel_size}')\n",
    "        r = kernel_size // 2\n",
    "        \n",
    "        self.f = nn.Sequential(nn.Conv1d(channels, channels*w, kernel_size, padding=r),\n",
    "                               activation_fn(),\n",
    "                               nn.Conv1d(w*channels, w*channels, kernel_size, padding=r),\n",
    "                               activation_fn(),\n",
    "                               nn.Conv1d(w*channels, channels, kernel_size, padding=r)\n",
    "                              )\n",
    "    def forward(self, x):\n",
    "        return self.f(x)"
   ]
  },
  {
   "cell_type": "code",
   "execution_count": 100,
   "metadata": {
    "ExecuteTime": {
     "end_time": "2021-04-27T17:57:38.517484Z",
     "start_time": "2021-04-27T17:57:38.506080Z"
    }
   },
   "outputs": [],
   "source": [
    "INNModule = INN.INNAbstract.INNModule\n",
    "\n",
    "class CouplingConv(INNModule):\n",
    "    '''\n",
    "    General invertible covolution layer for coupling methods\n",
    "    '''\n",
    "    def __init__(self, num_feature, mask=None):\n",
    "        super(CouplingConv, self).__init__()\n",
    "        self.num_feature = num_feature\n",
    "        if mask is None:\n",
    "            self.mask = self._mask(num_feature)\n",
    "        else:\n",
    "            self.mask = mask\n",
    "    \n",
    "    def _mask(self, n):\n",
    "        m = torch.zeros(n)\n",
    "        m[:(n // 2)] = 1\n",
    "        return m\n",
    "    \n",
    "    def working_mask(self, x):\n",
    "        '''\n",
    "        Generate feature mask for 1d inputs\n",
    "        x.shape = [batch_size, feature, *]\n",
    "        mask.shape = [1, feature, *(1)]\n",
    "        '''\n",
    "        batch_size, feature, *other = x.shape\n",
    "        mask = self.mask.reshape(1, self.num_feature, *[1] * len(other))\n",
    "        return mask\n",
    "\n",
    "\n",
    "class CouplingConv1d(CouplingConv):\n",
    "    '''\n",
    "    General 1-d invertible convolution layer for coupling methods\n",
    "    '''\n",
    "    def __init__(self, num_feature, mask=None):\n",
    "        super(CouplingConv1d, self).__init__(num_feature, mask=mask)\n",
    "\n",
    "\n",
    "class Conv1dNICE(CouplingConv1d):\n",
    "    '''\n",
    "    1-d invertible convolution layer by NICE method\n",
    "    '''\n",
    "    def __init__(self, channels, kernel_size, w=4, activation_fn=nn.ReLU, m=None, mask=None):\n",
    "        super(Conv1dNICE, self).__init__(num_feature=channels, mask=mask)\n",
    "        if m is None:\n",
    "            self.m = _default_1d_coupling_function(channels, kernel_size, activation_fn, w=w)\n",
    "        else:\n",
    "            self.m = m\n",
    "    \n",
    "    def forward(self, x):\n",
    "        mask = self.working_mask(x)\n",
    "        \n",
    "        x_ = mask * x\n",
    "        x = x + (1-mask) * self.m(x_)\n",
    "        \n",
    "        x_ = (1-mask) * x\n",
    "        x = x + mask * self.m(x_)\n",
    "        return x\n",
    "    \n",
    "    def inverse(self, y):\n",
    "        mask = self.working_mask(y)\n",
    "        \n",
    "        y_ = (1-mask) * y\n",
    "        y = y - mask * self.m(y_)\n",
    "        \n",
    "        y_ = mask * y\n",
    "        y = y - (1-mask) * self.m(y_)\n",
    "        \n",
    "        return y\n",
    "    \n",
    "    def logdet(self, **args):\n",
    "        return 0\n",
    "\n",
    "\n",
    "class Conv1dNVP(CouplingConv1d):\n",
    "    '''\n",
    "    1-d invertible convolution layer by NICE method\n",
    "    TODO: inverse error is too large\n",
    "    '''\n",
    "    def __init__(self, channels, kernel_size, w=4, activation_fn=nn.ReLU, s=None, t=None, mask=None):\n",
    "        super(Conv1dNVP, self).__init__(num_feature=channels, mask=mask)\n",
    "        if s is None:\n",
    "            self.log_s = _default_1d_coupling_function(channels, kernel_size, activation_fn, w=w)\n",
    "        else:\n",
    "            self.log_s = s\n",
    "        \n",
    "        if t is None:\n",
    "            self.t = _default_1d_coupling_function(channels, kernel_size, activation_fn, w=w)\n",
    "        else:\n",
    "            self.t = t\n",
    "    \n",
    "    def s(self, x):\n",
    "        return torch.exp(self.log_s(x))\n",
    "    \n",
    "    def forward(self, x):\n",
    "        mask = self.working_mask(x)\n",
    "        \n",
    "        x_ = mask * x\n",
    "        x = (1-mask) * (self.s(x_) * x + self.t(x_)) + x_\n",
    "        \n",
    "        mask = 1 - mask\n",
    "        x_ = mask * x\n",
    "        x = (1-mask) * (self.s(x_) * x + self.t(x_)) + x_\n",
    "        \n",
    "        return x\n",
    "    \n",
    "    def inverse(self, y):\n",
    "        mask = 1 - self.working_mask(y)\n",
    "        \n",
    "        y_ = mask * y\n",
    "        y = (1-mask) * (y - self.t(y_)) / torch.exp(self.log_s(y_)) + y_\n",
    "        \n",
    "        mask = 1 - mask\n",
    "        y_ = mask * y\n",
    "        y = (1-mask) * (y - self.t(y_)) / torch.exp(self.log_s(y_)) + y_\n",
    "        \n",
    "        return y\n",
    "    \n",
    "    def logdet(self, **args):\n",
    "        return 0"
   ]
  },
  {
   "cell_type": "code",
   "execution_count": 2,
   "metadata": {
    "ExecuteTime": {
     "end_time": "2021-04-27T23:57:51.744941Z",
     "start_time": "2021-04-27T23:57:51.327686Z"
    }
   },
   "outputs": [],
   "source": [
    "import INN\n",
    "import torch\n",
    "import torch.nn as nn\n",
    "import torch.nn.functional as F"
   ]
  },
  {
   "cell_type": "code",
   "execution_count": 2,
   "metadata": {
    "ExecuteTime": {
     "end_time": "2021-04-27T23:38:15.250404Z",
     "start_time": "2021-04-27T23:38:15.243695Z"
    }
   },
   "outputs": [],
   "source": [
    "x = torch.randn((3, 5, 8)) * 10\n",
    "\n",
    "model = INN.Linear1d(5)"
   ]
  },
  {
   "cell_type": "code",
   "execution_count": 3,
   "metadata": {
    "ExecuteTime": {
     "end_time": "2021-04-27T23:38:19.391251Z",
     "start_time": "2021-04-27T23:38:19.374898Z"
    }
   },
   "outputs": [
    {
     "data": {
      "text/plain": [
       "(tensor([[[-4.5962e-01, -8.3237e-01, -5.2095e+00, -6.3192e+00, -9.2027e+00,\n",
       "           -2.3169e+01, -2.2931e+00, -1.5648e+00],\n",
       "          [ 2.1111e+00,  4.1545e+00, -4.4625e+00,  9.5212e+00,  4.8327e+00,\n",
       "            8.9690e+00, -2.5365e+01, -1.0859e+01],\n",
       "          [-3.9164e+00,  1.7029e+01,  4.7630e+00,  1.9899e+01, -2.3675e+01,\n",
       "           -5.6664e+00,  1.8262e+01,  4.9501e+00],\n",
       "          [ 3.7490e+00, -1.3335e+00,  3.8716e+00,  1.2091e+01, -2.0418e+00,\n",
       "           -1.1282e+01,  1.1244e+00, -9.5155e-01],\n",
       "          [ 2.0400e+00,  1.3096e+01, -4.2499e-01,  3.8104e+00, -9.6784e+00,\n",
       "            1.1031e+01,  6.2131e+00, -1.5430e+01]],\n",
       " \n",
       "         [[ 1.3582e+01, -1.9608e+01, -4.0115e+00,  1.2407e+00, -8.5277e+00,\n",
       "            7.0188e+00, -7.1900e+00, -1.7199e+00],\n",
       "          [-5.4620e+00, -9.5898e+00,  5.4368e+00,  2.3484e+00, -1.3124e+01,\n",
       "           -4.8956e+00, -2.5614e+00,  3.3316e+00],\n",
       "          [-3.0688e+00, -1.9365e-01, -4.9798e+00,  2.3397e+00,  1.3315e+01,\n",
       "           -4.1992e-01,  1.6362e+01, -2.1196e+00],\n",
       "          [ 6.8842e+00, -3.2285e+01,  6.9074e+00, -6.6047e+00,  6.8936e+00,\n",
       "            1.1748e+01,  1.1665e+01,  1.3624e-02],\n",
       "          [ 5.1480e-01, -2.3641e+00, -1.8759e+01,  4.9261e-01,  1.3590e+01,\n",
       "            1.3689e+01,  1.4643e+01, -6.3837e+00]],\n",
       " \n",
       "         [[ 3.0809e+00,  1.7189e+00,  6.9381e+00,  8.3455e+00, -2.0749e+01,\n",
       "           -1.3536e+01, -1.2680e+01,  2.4215e+00],\n",
       "          [ 8.7786e+00,  1.6969e+00,  1.2479e+00,  5.8923e-02,  5.5089e+00,\n",
       "            7.4215e+00, -3.0111e-01,  8.5233e+00],\n",
       "          [-1.5211e+01,  1.2217e+01, -8.2287e+00, -4.4192e+00,  2.9674e+00,\n",
       "           -4.8025e+00,  2.8082e+01, -2.1386e+01],\n",
       "          [ 8.0236e+00, -1.0300e+01,  6.9416e+00, -2.0048e+01,  1.2552e+01,\n",
       "            5.5606e+00, -9.4778e+00,  4.6419e+00],\n",
       "          [ 1.0716e+01,  6.8516e-01,  9.4519e+00,  4.1410e+00,  5.0152e+00,\n",
       "           -1.1848e+01,  8.3113e-01, -1.6843e+00]]], grad_fn=<SqueezeBackward1>),\n",
       " 0,\n",
       " tensor(-1.1921e-07, grad_fn=<AddBackward0>))"
      ]
     },
     "execution_count": 3,
     "metadata": {},
     "output_type": "execute_result"
    }
   ],
   "source": [
    "model(x)"
   ]
  },
  {
   "cell_type": "code",
   "execution_count": 42,
   "metadata": {
    "ExecuteTime": {
     "end_time": "2021-04-27T19:58:57.337371Z",
     "start_time": "2021-04-27T19:58:57.333241Z"
    }
   },
   "outputs": [
    {
     "data": {
      "text/plain": [
       "tensor([17.2584,  8.3290, 27.7419], grad_fn=<AddBackward0>)"
      ]
     },
     "execution_count": 42,
     "metadata": {},
     "output_type": "execute_result"
    }
   ],
   "source": [
    "logdet"
   ]
  },
  {
   "cell_type": "code",
   "execution_count": 43,
   "metadata": {
    "ExecuteTime": {
     "end_time": "2021-04-27T19:58:58.319863Z",
     "start_time": "2021-04-27T19:58:58.298200Z"
    }
   },
   "outputs": [
    {
     "data": {
      "text/plain": [
       "tensor(9.3338, grad_fn=<L1LossBackward>)"
      ]
     },
     "execution_count": 43,
     "metadata": {},
     "output_type": "execute_result"
    }
   ],
   "source": [
    "nn.L1Loss()(model.inverse(y), x)"
   ]
  },
  {
   "cell_type": "code",
   "execution_count": 47,
   "metadata": {
    "ExecuteTime": {
     "end_time": "2021-04-27T19:59:29.710253Z",
     "start_time": "2021-04-27T19:59:29.690848Z"
    }
   },
   "outputs": [
    {
     "data": {
      "text/plain": [
       "tensor([[[ 0.0000e+00,  0.0000e+00,  0.0000e+00,  0.0000e+00,  0.0000e+00,\n",
       "           0.0000e+00,  0.0000e+00, -5.9605e-08],\n",
       "         [ 0.0000e+00,  0.0000e+00,  0.0000e+00,  0.0000e+00,  0.0000e+00,\n",
       "           0.0000e+00,  0.0000e+00,  0.0000e+00],\n",
       "         [ 0.0000e+00,  0.0000e+00,  0.0000e+00,  0.0000e+00,  0.0000e+00,\n",
       "           0.0000e+00,  0.0000e+00, -4.7684e-07],\n",
       "         [-1.9073e-06, -2.3842e-07,  0.0000e+00,  0.0000e+00,  0.0000e+00,\n",
       "           0.0000e+00,  0.0000e+00,  0.0000e+00],\n",
       "         [ 0.0000e+00,  0.0000e+00,  0.0000e+00,  0.0000e+00,  0.0000e+00,\n",
       "           0.0000e+00,  0.0000e+00,  0.0000e+00]],\n",
       "\n",
       "        [[ 2.0160e+00,  4.5725e+00, -6.5988e+00, -6.9353e+00, -1.9093e+01,\n",
       "           6.4344e+00,  4.9652e+00, -9.1800e+00],\n",
       "         [-5.2022e+00, -1.6432e+01, -1.0714e+00,  3.1963e+01, -4.8019e+01,\n",
       "          -2.0962e+02, -1.3407e-02,  1.0146e+01],\n",
       "         [-3.1409e-01, -8.2552e+00, -7.9736e+00,  2.8125e+00,  1.7196e+01,\n",
       "          -1.2859e+01, -4.4796e+00, -1.7652e+00],\n",
       "         [-3.1207e+00, -2.1388e-01, -2.6068e+00,  1.2939e+00, -7.3147e+00,\n",
       "           1.0111e+01,  5.2085e-01,  1.9049e+00],\n",
       "         [-5.3876e+00,  4.4973e-01,  3.0528e+00,  4.2844e+00,  1.2069e+00,\n",
       "          -4.4137e-01,  3.5361e+00,  1.5774e+00]],\n",
       "\n",
       "        [[ 4.8114e+00,  1.2989e+02,  2.3822e-01,  7.6804e+00, -5.8815e-01,\n",
       "          -4.2366e+01, -4.9536e+00, -7.2709e+00],\n",
       "         [-3.7207e-01, -1.7346e+00,  7.8528e+01, -3.3229e+00, -1.4972e+02,\n",
       "           2.0417e+00, -2.4455e+00, -5.9568e+01],\n",
       "         [-1.4398e+00,  3.1692e+00, -2.1152e+00,  3.8740e+00, -1.5565e+01,\n",
       "           4.3865e+00,  1.1124e+01, -5.2823e+00],\n",
       "         [ 3.4121e+00, -2.6859e+00, -3.2128e+00,  3.5192e+00, -1.2694e+00,\n",
       "          -3.2050e+01,  6.2725e-01,  7.2276e+00],\n",
       "         [ 3.9963e+00,  6.1955e-01, -1.5151e+01, -1.3674e-01, -6.1263e+00,\n",
       "           8.4232e-01, -7.8503e+00, -3.9049e+00]]], grad_fn=<SubBackward0>)"
      ]
     },
     "execution_count": 47,
     "metadata": {},
     "output_type": "execute_result"
    }
   ],
   "source": [
    "model.inverse(y) - x"
   ]
  },
  {
   "cell_type": "code",
   "execution_count": 74,
   "metadata": {
    "ExecuteTime": {
     "end_time": "2021-04-27T23:26:21.259387Z",
     "start_time": "2021-04-27T23:26:19.896590Z"
    }
   },
   "outputs": [
    {
     "data": {
      "text/plain": [
       "PLUMatrix()"
      ]
     },
     "execution_count": 74,
     "metadata": {},
     "output_type": "execute_result"
    }
   ],
   "source": [
    "mat = INN.utilities.PLUMatrix(5)\n",
    "mat.cuda()"
   ]
  },
  {
   "cell_type": "code",
   "execution_count": 71,
   "metadata": {
    "ExecuteTime": {
     "end_time": "2021-04-27T23:24:47.036842Z",
     "start_time": "2021-04-27T23:24:47.015982Z"
    }
   },
   "outputs": [
    {
     "data": {
      "text/plain": [
       "torch.Size([3, 5, 8])"
      ]
     },
     "execution_count": 71,
     "metadata": {},
     "output_type": "execute_result"
    }
   ],
   "source": [
    "weight = mat.W().unsqueeze(-1)\n",
    "F.conv1d(x, weight).shape"
   ]
  },
  {
   "cell_type": "code",
   "execution_count": 73,
   "metadata": {
    "ExecuteTime": {
     "end_time": "2021-04-27T23:24:53.132206Z",
     "start_time": "2021-04-27T23:24:53.123620Z"
    }
   },
   "outputs": [
    {
     "data": {
      "text/plain": [
       "torch.Size([3, 5, 8])"
      ]
     },
     "execution_count": 73,
     "metadata": {},
     "output_type": "execute_result"
    }
   ],
   "source": [
    "x.shape"
   ]
  },
  {
   "cell_type": "code",
   "execution_count": 75,
   "metadata": {
    "ExecuteTime": {
     "end_time": "2021-04-27T23:26:26.893286Z",
     "start_time": "2021-04-27T23:26:26.591498Z"
    }
   },
   "outputs": [
    {
     "data": {
      "text/plain": [
       "tensor([[ 0.6578, -0.3593,  0.5535, -0.2352, -0.2766],\n",
       "        [-0.4351, -0.4065, -0.1952, -0.1574, -0.7633],\n",
       "        [ 0.2616, -0.7114, -0.5362,  0.1648,  0.3330],\n",
       "        [-0.1821, -0.0787, -0.0500, -0.9152,  0.3472],\n",
       "        [ 0.5258,  0.4398, -0.6046, -0.2349, -0.3309]], device='cuda:0',\n",
       "       grad_fn=<MmBackward>)"
      ]
     },
     "execution_count": 75,
     "metadata": {},
     "output_type": "execute_result"
    }
   ],
   "source": [
    "mat.W()"
   ]
  },
  {
   "cell_type": "code",
   "execution_count": 80,
   "metadata": {
    "ExecuteTime": {
     "end_time": "2021-04-27T23:28:40.954636Z",
     "start_time": "2021-04-27T23:28:40.940067Z"
    }
   },
   "outputs": [],
   "source": [
    "class Conv1d1x1(nn.Module):\n",
    "    def __init__(self, num_feature, mat=None):\n",
    "        super(Conv1d1x1, self).__init__()\n",
    "        if mat is None:\n",
    "            self.mat = INN.utilities.PLUMatrix(num_feature)\n",
    "        else:\n",
    "            self.mat = mat\n",
    "    \n",
    "    def weight(self):\n",
    "        return self.mat.W().unsqueeze(-1)\n",
    "    \n",
    "    def weight_inv(self):\n",
    "        return self.mat.inv_W().unsqueeze(-1)\n",
    "    \n",
    "    def forward(self, x, log_p0=0, log_det_J=0):\n",
    "        return F.conv1d(x, self.weight())\n",
    "    \n",
    "    def inverse(self, y):\n",
    "        return F.conv1d(y, self.weight_inv())"
   ]
  },
  {
   "cell_type": "code",
   "execution_count": 81,
   "metadata": {
    "ExecuteTime": {
     "end_time": "2021-04-27T23:28:41.767634Z",
     "start_time": "2021-04-27T23:28:41.748974Z"
    }
   },
   "outputs": [],
   "source": [
    "model = Conv1d1x1(5)"
   ]
  },
  {
   "cell_type": "code",
   "execution_count": 82,
   "metadata": {
    "ExecuteTime": {
     "end_time": "2021-04-27T23:28:49.569842Z",
     "start_time": "2021-04-27T23:28:49.559993Z"
    }
   },
   "outputs": [],
   "source": [
    "y = model(x).detach()"
   ]
  },
  {
   "cell_type": "code",
   "execution_count": 85,
   "metadata": {
    "ExecuteTime": {
     "end_time": "2021-04-27T23:29:02.980919Z",
     "start_time": "2021-04-27T23:29:02.969234Z"
    }
   },
   "outputs": [
    {
     "data": {
      "text/plain": [
       "tensor([[[ 9.5367e-07, -7.7486e-07,  0.0000e+00, -2.5034e-06,  0.0000e+00,\n",
       "           1.0729e-06, -1.9073e-06,  5.3644e-07],\n",
       "         [-1.9073e-06,  9.5367e-07,  9.5367e-07,  2.8610e-06,  0.0000e+00,\n",
       "          -1.9073e-06,  1.9073e-06, -2.3842e-07],\n",
       "         [ 0.0000e+00,  0.0000e+00,  4.7684e-07,  0.0000e+00, -1.9073e-06,\n",
       "           0.0000e+00,  3.5763e-07, -9.5367e-07],\n",
       "         [-3.8147e-06,  0.0000e+00,  0.0000e+00,  1.9073e-06,  3.8147e-06,\n",
       "          -4.7684e-07,  0.0000e+00, -1.1921e-07],\n",
       "         [-1.6689e-06, -9.5367e-07,  4.7684e-07,  0.0000e+00,  4.7684e-07,\n",
       "           9.5367e-07, -1.9073e-06,  1.4305e-06]],\n",
       "\n",
       "        [[-7.1526e-07,  1.9073e-06,  4.7684e-07, -1.4305e-06,  0.0000e+00,\n",
       "           2.3842e-06, -1.4305e-06,  0.0000e+00],\n",
       "         [ 0.0000e+00,  9.5367e-07, -4.7684e-07, -2.6226e-06, -1.9073e-06,\n",
       "          -1.9073e-06,  9.5367e-07, -1.4305e-06],\n",
       "         [ 0.0000e+00,  0.0000e+00,  9.5367e-07,  1.9073e-06,  0.0000e+00,\n",
       "           4.7684e-07, -4.7684e-07,  4.7684e-07],\n",
       "         [-1.9073e-06, -4.7684e-07, -4.7684e-07, -1.9073e-06, -1.9073e-06,\n",
       "          -9.5367e-07, -5.9605e-08, -4.7684e-07],\n",
       "         [-9.5367e-07,  1.1921e-06,  0.0000e+00,  0.0000e+00,  0.0000e+00,\n",
       "           9.5367e-07, -9.5367e-07, -1.3113e-06]],\n",
       "\n",
       "        [[-9.5367e-07,  0.0000e+00,  1.1921e-07,  0.0000e+00,  9.5367e-07,\n",
       "           1.9073e-06, -1.9073e-06,  4.7684e-07],\n",
       "         [ 1.3709e-06,  1.4305e-06,  9.5367e-07,  0.0000e+00,  0.0000e+00,\n",
       "           1.5497e-06,  9.5367e-07, -2.3842e-06],\n",
       "         [ 0.0000e+00,  0.0000e+00, -2.3842e-07,  9.5367e-07,  0.0000e+00,\n",
       "          -9.5367e-07,  0.0000e+00,  4.7684e-07],\n",
       "         [ 9.5367e-07,  0.0000e+00,  1.4305e-06, -2.3842e-07,  4.7684e-07,\n",
       "           1.9073e-06,  2.3842e-07, -1.9073e-06],\n",
       "         [-4.7684e-07,  1.1921e-07,  0.0000e+00,  9.5367e-07,  7.1526e-07,\n",
       "           1.6689e-06,  0.0000e+00,  1.7881e-07]]], grad_fn=<SubBackward0>)"
      ]
     },
     "execution_count": 85,
     "metadata": {},
     "output_type": "execute_result"
    }
   ],
   "source": [
    "model.inverse(y) - x"
   ]
  },
  {
   "cell_type": "code",
   "execution_count": 6,
   "metadata": {
    "ExecuteTime": {
     "end_time": "2021-04-27T23:40:47.700100Z",
     "start_time": "2021-04-27T23:40:47.693944Z"
    }
   },
   "outputs": [
    {
     "data": {
      "text/plain": [
       "torch.Size([5, 5, 1, 1])"
      ]
     },
     "execution_count": 6,
     "metadata": {},
     "output_type": "execute_result"
    }
   ],
   "source": [
    "nn.Conv2d(5, 5, 1).weight.shape"
   ]
  },
  {
   "cell_type": "markdown",
   "metadata": {},
   "source": [
    "## Reshape"
   ]
  },
  {
   "cell_type": "code",
   "execution_count": 1,
   "metadata": {
    "ExecuteTime": {
     "end_time": "2021-04-28T05:00:50.242305Z",
     "start_time": "2021-04-28T05:00:49.843971Z"
    }
   },
   "outputs": [],
   "source": [
    "import INN\n",
    "import torch\n",
    "import torch.nn as nn\n",
    "import torch.nn.functional as F"
   ]
  },
  {
   "cell_type": "code",
   "execution_count": 54,
   "metadata": {
    "ExecuteTime": {
     "end_time": "2021-04-28T06:24:44.962300Z",
     "start_time": "2021-04-28T06:24:44.948919Z"
    }
   },
   "outputs": [
    {
     "data": {
      "text/plain": [
       "''"
      ]
     },
     "execution_count": 54,
     "metadata": {},
     "output_type": "execute_result"
    }
   ],
   "source": [
    "x = torch.randn((3, 5, 8))\n",
    "model = INN.Sequential(INN.Conv1d(5, 3),\n",
    "                       INN.BatchNorm1d(5),\n",
    "                       INN.PixelShuffle1d(2), \n",
    "                       INN.Conv1d(10, 3),\n",
    "                       INN.BatchNorm1d(10),\n",
    "                       INN.Linear1d(10),\n",
    "                       INN.ResizeFeatures(10, 5),\n",
    "                       \n",
    "                       INN.PixelShuffle1d(2),\n",
    "                       INN.Conv1d(10, 3),\n",
    "                       INN.BatchNorm1d(10),\n",
    "                       INN.Linear1d(10),\n",
    "                       INN.ResizeFeatures(10, 5),\n",
    "                       INN.PixelShuffle1d(2),\n",
    "                       INN.Reshape((10,1), (10,)),\n",
    "                      \n",
    "                       INN.BatchNorm1d(10),\n",
    "                       INN.Nonlinear(10),\n",
    "                       INN.ResizeFeatures(10, 8),\n",
    "                       INN.BatchNorm1d(8),\n",
    "                       INN.Nonlinear(8)\n",
    "                      )\n",
    "model.computing_p(False)\n",
    "model.eval()\n",
    "''"
   ]
  },
  {
   "cell_type": "code",
   "execution_count": 55,
   "metadata": {
    "ExecuteTime": {
     "end_time": "2021-04-28T06:24:46.458053Z",
     "start_time": "2021-04-28T06:24:46.436563Z"
    }
   },
   "outputs": [],
   "source": [
    "y = model.inverse(model(x))"
   ]
  },
  {
   "cell_type": "code",
   "execution_count": 66,
   "metadata": {
    "ExecuteTime": {
     "end_time": "2021-04-28T06:38:43.880760Z",
     "start_time": "2021-04-28T06:38:43.873946Z"
    }
   },
   "outputs": [],
   "source": [
    "dist = torch.distributions.laplace.Laplace(0, 1)"
   ]
  },
  {
   "cell_type": "code",
   "execution_count": 68,
   "metadata": {
    "ExecuteTime": {
     "end_time": "2021-04-28T06:39:44.166204Z",
     "start_time": "2021-04-28T06:39:44.155582Z"
    }
   },
   "outputs": [
    {
     "data": {
      "text/plain": [
       "tensor([[-2.0021, -1.1280, -1.8641],\n",
       "        [-1.4805, -1.9972, -1.0846],\n",
       "        [-3.1994, -1.2627, -2.5235]])"
      ]
     },
     "execution_count": 68,
     "metadata": {},
     "output_type": "execute_result"
    }
   ],
   "source": [
    "dist.log_prob(dist.sample((3,3)))"
   ]
  },
  {
   "cell_type": "code",
   "execution_count": 71,
   "metadata": {
    "ExecuteTime": {
     "end_time": "2021-04-28T06:41:20.607364Z",
     "start_time": "2021-04-28T06:41:20.597584Z"
    }
   },
   "outputs": [
    {
     "data": {
      "text/plain": [
       "tensor([-2.1263,  0.4390,  0.8940])"
      ]
     },
     "execution_count": 71,
     "metadata": {},
     "output_type": "execute_result"
    }
   ],
   "source": [
    "dist.sample((3,))"
   ]
  },
  {
   "cell_type": "code",
   "execution_count": 53,
   "metadata": {
    "ExecuteTime": {
     "end_time": "2021-04-28T01:23:49.280424Z",
     "start_time": "2021-04-28T01:23:49.271003Z"
    }
   },
   "outputs": [
    {
     "data": {
      "text/plain": [
       "tensor([0.3992, 0.3992, 0.3992, 0.3992, 0.3992])"
      ]
     },
     "execution_count": 53,
     "metadata": {},
     "output_type": "execute_result"
    }
   ],
   "source": [
    "torch.randn(1) * torch.ones(5)"
   ]
  },
  {
   "cell_type": "code",
   "execution_count": 78,
   "metadata": {
    "ExecuteTime": {
     "end_time": "2021-04-28T19:20:53.053849Z",
     "start_time": "2021-04-28T19:20:53.047578Z"
    }
   },
   "outputs": [
    {
     "data": {
      "text/plain": [
       "tensor([[[-0.3525, -0.6182,  0.0608],\n",
       "         [-0.2099, -0.7171, -0.2537],\n",
       "         [ 0.2056,  0.3083,  0.1566]],\n",
       "\n",
       "        [[ 0.2923,  0.3576,  0.6361],\n",
       "         [ 0.5877,  0.2804, -1.3565],\n",
       "         [-0.4057,  0.0572,  0.4639]],\n",
       "\n",
       "        [[-0.1204,  0.1078, -0.3653],\n",
       "         [ 0.1686,  0.6474,  0.1929],\n",
       "         [-0.1860, -0.1333,  0.0967]]])"
      ]
     },
     "execution_count": 78,
     "metadata": {},
     "output_type": "execute_result"
    }
   ],
   "source": [
    "torch.nn.init.kaiming_normal_(nn.Conv1d(3,3,3).weight.data)"
   ]
  },
  {
   "cell_type": "code",
   "execution_count": 111,
   "metadata": {
    "ExecuteTime": {
     "end_time": "2021-04-28T19:49:32.288443Z",
     "start_time": "2021-04-28T19:49:32.282448Z"
    }
   },
   "outputs": [],
   "source": [
    "x = torch.randn((3, 5, 8))"
   ]
  },
  {
   "cell_type": "code",
   "execution_count": 115,
   "metadata": {
    "ExecuteTime": {
     "end_time": "2021-04-28T19:50:48.847327Z",
     "start_time": "2021-04-28T19:50:48.842370Z"
    }
   },
   "outputs": [],
   "source": [
    "var = torch.var(x, dim=1, unbiased=False, keepdim=True)\n",
    "mean = torch.mean(x, dim=1, keepdim=True)\n",
    "y = (x-mean) / torch.sqrt(var)"
   ]
  },
  {
   "cell_type": "code",
   "execution_count": 112,
   "metadata": {
    "ExecuteTime": {
     "end_time": "2021-04-28T19:49:33.284295Z",
     "start_time": "2021-04-28T19:49:33.274101Z"
    }
   },
   "outputs": [
    {
     "data": {
      "text/plain": [
       "tensor([[[1.2872, 0.2362, 0.2864, 1.8388, 0.5417, 0.3461, 0.3637, 0.0270],\n",
       "         [0.0376, 0.2273, 0.2307, 3.1640, 0.5205, 0.8906, 0.6774, 0.1006],\n",
       "         [0.8270, 0.0053, 0.1850, 0.3851, 0.4486, 0.4170, 0.0254, 0.1880],\n",
       "         [0.9127, 0.1060, 0.1569, 0.5217, 0.3434, 0.4291, 1.1008, 1.7872],\n",
       "         [1.5368, 0.0630, 0.0488, 0.6278, 0.2728, 0.4753, 0.3533, 0.0304]]])"
      ]
     },
     "execution_count": 112,
     "metadata": {},
     "output_type": "execute_result"
    }
   ],
   "source": [
    "torch.var(x, dim=0, unbiased=False, keepdim=True)"
   ]
  },
  {
   "cell_type": "code",
   "execution_count": 116,
   "metadata": {
    "ExecuteTime": {
     "end_time": "2021-04-28T19:50:51.225632Z",
     "start_time": "2021-04-28T19:50:51.203657Z"
    }
   },
   "outputs": [],
   "source": [
    "y0 = nn.BatchNorm1d(5)(x)"
   ]
  },
  {
   "cell_type": "code",
   "execution_count": 123,
   "metadata": {
    "ExecuteTime": {
     "end_time": "2021-04-28T22:34:21.792722Z",
     "start_time": "2021-04-28T22:34:21.785659Z"
    }
   },
   "outputs": [
    {
     "name": "stdout",
     "output_type": "stream",
     "text": [
      "tensor([[2.9283],\n",
      "        [1.0821]])\n"
     ]
    }
   ],
   "source": [
    "import torch\n",
    "from torch.autograd import Variable\n",
    "\n",
    "grad_list = []\n",
    "\n",
    "def print_grad(grad):\n",
    "    print(grad)\n",
    "    grad_list.append(grad)\n",
    "\n",
    "x = Variable(torch.randn(2, 1), requires_grad=True)\n",
    "y = x+2\n",
    "z = torch.mean(torch.pow(y, 2))\n",
    "lr = 1e-3\n",
    "y.register_hook(print_grad)\n",
    "z.backward()\n",
    "x.data -= lr*x.grad.data"
   ]
  },
  {
   "cell_type": "code",
   "execution_count": 125,
   "metadata": {
    "ExecuteTime": {
     "end_time": "2021-04-28T23:08:55.339777Z",
     "start_time": "2021-04-28T23:08:55.330212Z"
    }
   },
   "outputs": [
    {
     "data": {
      "text/plain": [
       "tensor([-1., -1., -1.,  1., -1.])"
      ]
     },
     "execution_count": 125,
     "metadata": {},
     "output_type": "execute_result"
    }
   ],
   "source": [
    "torch.sign(torch.randn(5))"
   ]
  },
  {
   "cell_type": "code",
   "execution_count": 130,
   "metadata": {
    "ExecuteTime": {
     "end_time": "2021-04-28T23:49:56.392708Z",
     "start_time": "2021-04-28T23:49:56.382633Z"
    }
   },
   "outputs": [
    {
     "data": {
      "text/plain": [
       "tensor([3., 3., 3.])"
      ]
     },
     "execution_count": 130,
     "metadata": {},
     "output_type": "execute_result"
    }
   ],
   "source": [
    "torch.Tensor([3]).repeat(3)"
   ]
  },
  {
   "cell_type": "code",
   "execution_count": 7,
   "metadata": {
    "ExecuteTime": {
     "end_time": "2021-04-29T00:38:33.238124Z",
     "start_time": "2021-04-29T00:38:33.223672Z"
    }
   },
   "outputs": [
    {
     "name": "stdout",
     "output_type": "stream",
     "text": [
      "tensor([[ -4.9253,   1.0349,  -0.1721],\n",
      "        [-18.1465,   5.9512,  -2.1945],\n",
      "        [-29.2788,  10.0235,  -2.2862]], grad_fn=<MmBackward>)\n",
      "tensor([[1.0000, 2.0000, 3.0000],\n",
      "        [4.0000, 5.0000, 6.0000],\n",
      "        [7.0000, 8.0000, 9.0000]], grad_fn=<AddBackward0>)\n"
     ]
    }
   ],
   "source": [
    "import INN\n",
    "import torch\n",
    "\n",
    "model = INN.Sequential(INN.Nonlinear(3, method='RealNVP'),\n",
    "                       INN.BatchNorm1d(3),\n",
    "                       INN.Linear(3))\n",
    "model.eval()\n",
    "\n",
    "x = torch.Tensor([[1,2,3],\n",
    "                  [4,5,6],\n",
    "                  [7,8,9]])\n",
    "\n",
    "y, logp, logdet = model(x)\n",
    "print(y)\n",
    "\n",
    "x_hat = model.inverse(y)\n",
    "print(x_hat)"
   ]
  },
  {
   "cell_type": "code",
   "execution_count": 8,
   "metadata": {
    "ExecuteTime": {
     "end_time": "2021-04-29T00:39:56.559015Z",
     "start_time": "2021-04-29T00:39:56.552349Z"
    }
   },
   "outputs": [
    {
     "name": "stdout",
     "output_type": "stream",
     "text": [
      "tensor([[1.],\n",
      "        [4.],\n",
      "        [7.]])\n",
      "tensor([[ 1.0000,  1.5800, -0.6237],\n",
      "        [ 4.0000,  0.5238,  0.3988],\n",
      "        [ 7.0000,  1.0111, -0.0900]])\n"
     ]
    }
   ],
   "source": [
    "import INN\n",
    "import torch\n",
    "\n",
    "model = INN.ResizeFeatures(feature_in=3, feature_out=1)\n",
    "\n",
    "x = torch.Tensor([[1,2,3],\n",
    "                  [4,5,6],\n",
    "                  [7,8,9]])\n",
    "\n",
    "y, logp, logdet = model(x)\n",
    "print(y)\n",
    "\n",
    "x_hat = model.inverse(y)\n",
    "print(x_hat)"
   ]
  },
  {
   "cell_type": "code",
   "execution_count": 12,
   "metadata": {
    "ExecuteTime": {
     "end_time": "2021-04-29T00:46:08.782368Z",
     "start_time": "2021-04-29T00:46:08.775271Z"
    }
   },
   "outputs": [
    {
     "name": "stdout",
     "output_type": "stream",
     "text": [
      "tensor([[-1.3197,  1.3629,  0.8760],\n",
      "        [ 2.3425,  4.4854,  3.7336],\n",
      "        [ 6.0047,  7.6079,  6.5912]])\n",
      "tensor([[1.0000, 2.0000, 3.0000],\n",
      "        [4.0000, 5.0000, 6.0000],\n",
      "        [7.0000, 8.0000, 9.0000]])\n"
     ]
    }
   ],
   "source": [
    "import INN\n",
    "import torch\n",
    "\n",
    "model = INN.BatchNorm1d(3)\n",
    "model.eval()\n",
    "model.running_var = torch.abs(torch.randn(3))\n",
    "model.running_mean = torch.abs(torch.randn(3))\n",
    "\n",
    "x = torch.Tensor([[1,2,3],\n",
    "                  [4,5,6],\n",
    "                  [7,8,9]])\n",
    "\n",
    "y, logp, logdet = model(x)\n",
    "print(y)\n",
    "\n",
    "x_hat = model.inverse(y)\n",
    "print(x_hat)"
   ]
  },
  {
   "cell_type": "code",
   "execution_count": 17,
   "metadata": {
    "ExecuteTime": {
     "end_time": "2021-04-29T05:43:07.341767Z",
     "start_time": "2021-04-29T05:43:07.336298Z"
    }
   },
   "outputs": [
    {
     "data": {
      "text/plain": [
       "tensor([0.6710, 0.9231, 1.1021])"
      ]
     },
     "execution_count": 17,
     "metadata": {},
     "output_type": "execute_result"
    }
   ],
   "source": [
    "model.__getattr__('running_var')"
   ]
  },
  {
   "cell_type": "code",
   "execution_count": 20,
   "metadata": {
    "ExecuteTime": {
     "end_time": "2021-04-29T05:43:23.659834Z",
     "start_time": "2021-04-29T05:43:23.652896Z"
    }
   },
   "outputs": [
    {
     "ename": "TypeError",
     "evalue": "'BatchNorm1d' object is not subscriptable",
     "output_type": "error",
     "traceback": [
      "\u001b[0;31m---------------------------------------------------------------------------\u001b[0m",
      "\u001b[0;31mTypeError\u001b[0m                                 Traceback (most recent call last)",
      "\u001b[0;32m<ipython-input-20-5ba13a74047d>\u001b[0m in \u001b[0;36m<module>\u001b[0;34m\u001b[0m\n\u001b[0;32m----> 1\u001b[0;31m \u001b[0mmodel\u001b[0m\u001b[0;34m[\u001b[0m\u001b[0;34m'running_var'\u001b[0m\u001b[0;34m]\u001b[0m\u001b[0;34m\u001b[0m\u001b[0;34m\u001b[0m\u001b[0m\n\u001b[0m",
      "\u001b[0;31mTypeError\u001b[0m: 'BatchNorm1d' object is not subscriptable"
     ]
    }
   ],
   "source": [
    "model['running_var']"
   ]
  },
  {
   "cell_type": "code",
   "execution_count": 223,
   "metadata": {
    "ExecuteTime": {
     "end_time": "2021-04-29T07:10:10.111561Z",
     "start_time": "2021-04-29T07:10:10.105122Z"
    }
   },
   "outputs": [],
   "source": [
    "def custom_weight_hook(self, input):\n",
    "    # 定义hook，在运行之前更新weight\n",
    "    # 在实际的权重上添加噪声\n",
    "    self.weight = self.x + self.noise_level * torch.randn((self.in_features, self.in_features))\n",
    "\n",
    "class NoiseLinear(nn.Linear):\n",
    "    def __init__(self, dim_in, dim_out, noise_level=0.1):\n",
    "        super(NoiseLinear, self).__init__(dim_in, dim_out, bias=False)\n",
    "        self.noise_level = noise_level\n",
    "        \n",
    "        # 删除默认的weight，并注册一个buffer缓冲，作为weight\n",
    "        del self.weight\n",
    "        \n",
    "        # 定义实际要训练的变量\n",
    "        self.x = nn.Parameter(torch.ones((self.in_features, self.in_features)))\n",
    "        # 注册一个forward_pre_hook，将在每次forward之前运行\n",
    "        self.register_forward_pre_hook(self.custom_weight_hook)\n",
    "    \n",
    "    def custom_weight_hook(self, module, inputs):\n",
    "        # 定义hook，在运行之前更新weight\n",
    "        # 在实际的权重上添加噪声\n",
    "        print(*inputs)\n",
    "        self.weight = self.x + self.noise_level * torch.randn((self.in_features, self.in_features))\n",
    "        "
   ]
  },
  {
   "cell_type": "code",
   "execution_count": 224,
   "metadata": {
    "ExecuteTime": {
     "end_time": "2021-04-29T07:10:10.609882Z",
     "start_time": "2021-04-29T07:10:10.607313Z"
    },
    "scrolled": true
   },
   "outputs": [],
   "source": [
    "model = NoiseLinear(3, 3)\n",
    "x = torch.randn(4,3)"
   ]
  },
  {
   "cell_type": "code",
   "execution_count": 229,
   "metadata": {
    "ExecuteTime": {
     "end_time": "2021-04-29T07:10:17.705848Z",
     "start_time": "2021-04-29T07:10:17.695193Z"
    }
   },
   "outputs": [
    {
     "name": "stdout",
     "output_type": "stream",
     "text": [
      "tensor([[-0.5906, -2.2672,  2.1911],\n",
      "        [-0.4017,  1.6780, -1.4202],\n",
      "        [-1.0896,  0.7093, -0.8677],\n",
      "        [ 0.4006,  0.6941, -1.0644]])\n"
     ]
    },
    {
     "data": {
      "text/plain": [
       "tensor([[-0.8000, -0.6525, -0.6708],\n",
       "        [-0.0775, -0.1151, -0.2130],\n",
       "        [-1.2538, -1.2189, -1.3295],\n",
       "        [ 0.0807, -0.0026,  0.0692]], grad_fn=<MmBackward>)"
      ]
     },
     "execution_count": 229,
     "metadata": {},
     "output_type": "execute_result"
    }
   ],
   "source": [
    "model(x)"
   ]
  },
  {
   "cell_type": "code",
   "execution_count": 222,
   "metadata": {
    "ExecuteTime": {
     "end_time": "2021-04-29T06:46:51.130846Z",
     "start_time": "2021-04-29T06:46:51.120228Z"
    }
   },
   "outputs": [
    {
     "data": {
      "text/plain": [
       "tensor([[-0.4075, -0.6115, -0.6070],\n",
       "        [-1.5189, -1.8431, -1.6411],\n",
       "        [ 1.0499,  0.7758,  0.8983],\n",
       "        [ 0.3708,  0.1679,  0.3418]], grad_fn=<MmBackward>)"
      ]
     },
     "execution_count": 222,
     "metadata": {},
     "output_type": "execute_result"
    }
   ],
   "source": [
    "NoiseLinear.forward(model, x)"
   ]
  },
  {
   "cell_type": "code",
   "execution_count": null,
   "metadata": {},
   "outputs": [],
   "source": []
  }
 ],
 "metadata": {
  "kernelspec": {
   "name": "python36764bitbasecondae4132897c1e94310985f5436de80913d",
   "display_name": "Python 3.6.7 64-bit ('base': conda)"
  },
  "language_info": {
   "codemirror_mode": {
    "name": "ipython",
    "version": 3
   },
   "file_extension": ".py",
   "mimetype": "text/x-python",
   "name": "python",
   "nbconvert_exporter": "python",
   "pygments_lexer": "ipython3",
   "version": "3.6.7"
  },
  "toc": {
   "base_numbering": 1,
   "nav_menu": {},
   "number_sections": true,
   "sideBar": true,
   "skip_h1_title": false,
   "title_cell": "Table of Contents",
   "title_sidebar": "Contents",
   "toc_cell": false,
   "toc_position": {},
   "toc_section_display": true,
   "toc_window_display": true
  },
  "metadata": {
   "interpreter": {
    "hash": "19137a544274f3697223cbb947fb5ed7ac1029ec7b639e2517934075bd074258"
   }
  }
 },
 "nbformat": 4,
 "nbformat_minor": 4
}