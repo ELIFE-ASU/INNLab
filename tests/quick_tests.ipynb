{
 "cells": [
  {
   "cell_type": "code",
   "execution_count": 1,
   "metadata": {
    "ExecuteTime": {
     "end_time": "2021-04-25T20:26:36.264469Z",
     "start_time": "2021-04-25T20:26:35.882097Z"
    }
   },
   "outputs": [],
   "source": [
    "import INN\n",
    "import torch\n",
    "import torch.nn as nn"
   ]
  },
  {
   "cell_type": "code",
   "execution_count": 9,
   "metadata": {
    "ExecuteTime": {
     "end_time": "2021-04-25T20:26:56.449298Z",
     "start_time": "2021-04-25T20:26:56.436239Z"
    }
   },
   "outputs": [
    {
     "data": {
      "text/plain": [
       "''"
      ]
     },
     "execution_count": 9,
     "metadata": {},
     "output_type": "execute_result"
    }
   ],
   "source": [
    "model = INN.Sequential(INN.Nonlinear(dim=3, method='NICE'),\n",
    "                       INN.BatchNorm1d(3),\n",
    "                       INN.Nonlinear(dim=3, method='RealNVP'))\n",
    "model.eval()\n",
    "''"
   ]
  },
  {
   "cell_type": "code",
   "execution_count": 2,
   "metadata": {
    "ExecuteTime": {
     "end_time": "2021-04-25T20:26:37.191921Z",
     "start_time": "2021-04-25T20:26:37.186587Z"
    }
   },
   "outputs": [],
   "source": [
    "model = INN.BatchNorm1d(3)#INN.Nonlinear(dim=3, method='iResNet', num_n=100, num_iter=50)"
   ]
  },
  {
   "cell_type": "code",
   "execution_count": 3,
   "metadata": {
    "ExecuteTime": {
     "end_time": "2021-04-25T20:26:38.913606Z",
     "start_time": "2021-04-25T20:26:38.908206Z"
    }
   },
   "outputs": [],
   "source": [
    "def linear_Jacobian_matrix(model, x):\n",
    "    batch_size, dim = x.shape\n",
    "    x.requires_grad = True\n",
    "    model.computing_p(True)\n",
    "    y, log_p, log_det = model(x)\n",
    "    \n",
    "    grad_list = []\n",
    "    for i in range(dim):\n",
    "        v = torch.zeros((batch_size, dim))\n",
    "        v[:, i] = 1\n",
    "        grad = INN.utilities.vjp(y, x, v)[0]\n",
    "        grad_list.append(grad.detach())\n",
    "    return torch.stack(grad_list, dim=1), log_det"
   ]
  },
  {
   "cell_type": "code",
   "execution_count": 4,
   "metadata": {
    "ExecuteTime": {
     "end_time": "2021-04-25T20:26:39.163142Z",
     "start_time": "2021-04-25T20:26:39.156964Z"
    }
   },
   "outputs": [],
   "source": [
    "def Jacobian_matrix(model, x):\n",
    "    shape = x.shape\n",
    "    dim = int(torch.prod(torch.Tensor(list(x.shape))).item())\n",
    "    repeats = [dim]\n",
    "    for i in range(len(x.shape)):\n",
    "        repeats.append(1)\n",
    "    \n",
    "    x_hat = x.unsqueeze(0).repeat(tuple(repeats))\n",
    "    x_hat.requires_grad = True\n",
    "    model.computing_p(True)\n",
    "    y, log_p, log_det = model(x_hat)\n",
    "    \n",
    "    v = torch.diag(torch.ones(dim)).reshape((dim, *x.shape))\n",
    "    grad = INN.utilities.vjp(y, x_hat, v)[0]\n",
    "    \n",
    "    return grad.detach(), log_det.detach()"
   ]
  },
  {
   "cell_type": "code",
   "execution_count": 5,
   "metadata": {
    "ExecuteTime": {
     "end_time": "2021-04-25T20:26:40.478075Z",
     "start_time": "2021-04-25T20:26:40.472116Z"
    }
   },
   "outputs": [],
   "source": [
    "x = torch.randn(3)"
   ]
  },
  {
   "cell_type": "code",
   "execution_count": 10,
   "metadata": {
    "ExecuteTime": {
     "end_time": "2021-04-25T20:26:58.975751Z",
     "start_time": "2021-04-25T20:26:58.958737Z"
    }
   },
   "outputs": [
    {
     "data": {
      "text/plain": [
       "tensor([[ 1.0207,  0.7147,  0.1159],\n",
       "        [ 0.3893,  1.9171, -0.6180],\n",
       "        [ 0.4169, -0.0570,  1.0998]])"
      ]
     },
     "execution_count": 10,
     "metadata": {},
     "output_type": "execute_result"
    }
   ],
   "source": [
    "model.eps = 1e-5\n",
    "J, log_det = Jacobian_matrix(model, x)\n",
    "J"
   ]
  },
  {
   "cell_type": "code",
   "execution_count": 11,
   "metadata": {
    "ExecuteTime": {
     "end_time": "2021-04-25T20:27:00.256497Z",
     "start_time": "2021-04-25T20:27:00.250922Z"
    }
   },
   "outputs": [
    {
     "data": {
      "text/plain": [
       "tensor(0.4258)"
      ]
     },
     "execution_count": 11,
     "metadata": {},
     "output_type": "execute_result"
    }
   ],
   "source": [
    "torch.log(torch.abs(torch.det(J)))"
   ]
  },
  {
   "cell_type": "code",
   "execution_count": 12,
   "metadata": {
    "ExecuteTime": {
     "end_time": "2021-04-25T20:27:00.812211Z",
     "start_time": "2021-04-25T20:27:00.802256Z"
    }
   },
   "outputs": [
    {
     "data": {
      "text/plain": [
       "tensor(0.4258)"
      ]
     },
     "execution_count": 12,
     "metadata": {},
     "output_type": "execute_result"
    }
   ],
   "source": [
    "torch.mean(log_det)"
   ]
  },
  {
   "cell_type": "code",
   "execution_count": 5,
   "metadata": {
    "ExecuteTime": {
     "end_time": "2021-04-25T20:16:59.907029Z",
     "start_time": "2021-04-25T20:16:59.900497Z"
    }
   },
   "outputs": [],
   "source": [
    "x = torch.randn((6, 3))"
   ]
  },
  {
   "cell_type": "code",
   "execution_count": 11,
   "metadata": {
    "ExecuteTime": {
     "end_time": "2021-04-25T20:17:21.038359Z",
     "start_time": "2021-04-25T20:17:21.015209Z"
    }
   },
   "outputs": [
    {
     "name": "stdout",
     "output_type": "stream",
     "text": [
      "J_g=tensor([-1.5020e-05, -1.5020e-05, -1.5020e-05, -1.5020e-05, -1.5020e-05,\n",
      "        -1.5020e-05]),\n",
      "J_c=-1.5020295904832892e-05\n"
     ]
    }
   ],
   "source": [
    "model.eval()\n",
    "Js, log_det = linear_Jacobian_matrix(model, x)\n",
    "real_log_det = torch.log(torch.abs(torch.det(Js)))\n",
    "\n",
    "print(f'J_g={real_log_det},\\nJ_c={log_det.detach()}')"
   ]
  },
  {
   "cell_type": "code",
   "execution_count": 12,
   "metadata": {
    "ExecuteTime": {
     "end_time": "2021-04-25T20:17:23.285413Z",
     "start_time": "2021-04-25T20:17:23.279627Z"
    }
   },
   "outputs": [
    {
     "data": {
      "text/plain": [
       "tensor([[1.0000, 0.0000, 0.0000],\n",
       "        [0.0000, 1.0000, 0.0000],\n",
       "        [0.0000, 0.0000, 1.0000]])"
      ]
     },
     "execution_count": 12,
     "metadata": {},
     "output_type": "execute_result"
    }
   ],
   "source": [
    "Js[0]"
   ]
  },
  {
   "cell_type": "code",
   "execution_count": 46,
   "metadata": {
    "ExecuteTime": {
     "end_time": "2021-04-25T05:04:11.505096Z",
     "start_time": "2021-04-25T05:04:11.498678Z"
    }
   },
   "outputs": [
    {
     "data": {
      "text/plain": [
       "tensor(0.7945, grad_fn=<SumBackward0>)"
      ]
     },
     "execution_count": 46,
     "metadata": {},
     "output_type": "execute_result"
    }
   ],
   "source": [
    "torch.sum(-1 * torch.log(torch.var(x, dim=0, unbiased=False) + model.eps) / 2)"
   ]
  },
  {
   "cell_type": "markdown",
   "metadata": {},
   "source": [
    "## Bug lists"
   ]
  },
  {
   "cell_type": "markdown",
   "metadata": {},
   "source": [
    "1. `INN.BatchNorm1d()` fails on Jacobian tests [fixed]\n",
    "2. `INN.iResNet()` has large differece to the ground-truth!"
   ]
  },
  {
   "cell_type": "code",
   "execution_count": 53,
   "metadata": {
    "ExecuteTime": {
     "end_time": "2021-04-25T06:08:33.394253Z",
     "start_time": "2021-04-25T06:08:33.389501Z"
    }
   },
   "outputs": [],
   "source": [
    "model = nn.BatchNorm1d(3, affine=False)"
   ]
  },
  {
   "cell_type": "code",
   "execution_count": 54,
   "metadata": {
    "ExecuteTime": {
     "end_time": "2021-04-25T06:08:34.278052Z",
     "start_time": "2021-04-25T06:08:34.272396Z"
    }
   },
   "outputs": [
    {
     "data": {
      "text/plain": [
       "tensor([0., 0., 0.])"
      ]
     },
     "execution_count": 54,
     "metadata": {},
     "output_type": "execute_result"
    }
   ],
   "source": [
    "model.running_mean"
   ]
  },
  {
   "cell_type": "code",
   "execution_count": 55,
   "metadata": {
    "ExecuteTime": {
     "end_time": "2021-04-25T06:08:34.873855Z",
     "start_time": "2021-04-25T06:08:34.866593Z"
    }
   },
   "outputs": [
    {
     "data": {
      "text/plain": [
       "tensor([[-0.3725, -0.3559, -1.4208],\n",
       "        [ 0.7690,  0.1532,  0.9104],\n",
       "        [ 0.9525, -0.5532, -0.3847],\n",
       "        [-2.0273,  0.2497,  1.6467],\n",
       "        [ 0.4455,  1.8891, -0.3031],\n",
       "        [ 0.2327, -1.3830, -0.4485]], grad_fn=<NativeBatchNormBackward>)"
      ]
     },
     "execution_count": 55,
     "metadata": {},
     "output_type": "execute_result"
    }
   ],
   "source": [
    "model(x)"
   ]
  },
  {
   "cell_type": "code",
   "execution_count": 60,
   "metadata": {
    "ExecuteTime": {
     "end_time": "2021-04-25T06:09:38.944101Z",
     "start_time": "2021-04-25T06:09:38.937688Z"
    }
   },
   "outputs": [
    {
     "data": {
      "text/plain": [
       "tensor([[-0.3725, -0.3559, -1.4208],\n",
       "        [ 0.7690,  0.1532,  0.9104],\n",
       "        [ 0.9525, -0.5532, -0.3847],\n",
       "        [-2.0273,  0.2497,  1.6467],\n",
       "        [ 0.4455,  1.8891, -0.3031],\n",
       "        [ 0.2327, -1.3830, -0.4485]], grad_fn=<DivBackward0>)"
      ]
     },
     "execution_count": 60,
     "metadata": {},
     "output_type": "execute_result"
    }
   ],
   "source": [
    "var = torch.var(x, dim=0, unbiased=False)\n",
    "mean = torch.mean(x, dim=0)\n",
    "\n",
    "(x - mean) / torch.sqrt(var + model.eps)"
   ]
  },
  {
   "cell_type": "code",
   "execution_count": 19,
   "metadata": {
    "ExecuteTime": {
     "end_time": "2021-04-25T20:25:00.696600Z",
     "start_time": "2021-04-25T20:25:00.688777Z"
    }
   },
   "outputs": [],
   "source": [
    "x = torch.randn((5, 3))\n",
    "bn = nn.BatchNorm1d(3)"
   ]
  },
  {
   "cell_type": "code",
   "execution_count": 20,
   "metadata": {
    "ExecuteTime": {
     "end_time": "2021-04-25T20:25:01.168809Z",
     "start_time": "2021-04-25T20:25:01.158170Z"
    }
   },
   "outputs": [
    {
     "data": {
      "text/plain": [
       "tensor([[-1.1245,  1.3747, -0.5232],\n",
       "        [ 1.1031,  0.5880,  0.0641],\n",
       "        [-0.8741,  0.0202, -1.3274],\n",
       "        [-0.3750, -0.3597,  0.0675],\n",
       "        [ 1.2705, -1.6232,  1.7191]], grad_fn=<NativeBatchNormBackward>)"
      ]
     },
     "execution_count": 20,
     "metadata": {},
     "output_type": "execute_result"
    }
   ],
   "source": [
    "bn(x)"
   ]
  },
  {
   "cell_type": "code",
   "execution_count": null,
   "metadata": {},
   "outputs": [],
   "source": []
  }
 ],
 "metadata": {
  "kernelspec": {
   "display_name": "Python 3",
   "language": "python",
   "name": "python3"
  },
  "language_info": {
   "codemirror_mode": {
    "name": "ipython",
    "version": 3
   },
   "file_extension": ".py",
   "mimetype": "text/x-python",
   "name": "python",
   "nbconvert_exporter": "python",
   "pygments_lexer": "ipython3",
   "version": "3.7.5"
  },
  "toc": {
   "base_numbering": 1,
   "nav_menu": {},
   "number_sections": true,
   "sideBar": true,
   "skip_h1_title": false,
   "title_cell": "Table of Contents",
   "title_sidebar": "Contents",
   "toc_cell": false,
   "toc_position": {},
   "toc_section_display": true,
   "toc_window_display": false
  }
 },
 "nbformat": 4,
 "nbformat_minor": 4
}
