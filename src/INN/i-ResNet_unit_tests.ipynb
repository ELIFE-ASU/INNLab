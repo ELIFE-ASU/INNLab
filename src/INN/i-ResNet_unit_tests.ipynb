{
 "cells": [
  {
   "cell_type": "code",
   "execution_count": 779,
   "metadata": {
    "ExecuteTime": {
     "end_time": "2021-04-24T05:50:56.249539Z",
     "start_time": "2021-04-24T05:50:56.240468Z"
    }
   },
   "outputs": [],
   "source": [
    "import iResNet\n",
    "\n",
    "import torch\n",
    "import torch.nn as nn\n",
    "import torch.utils.data as data\n",
    "import torch.optim as optim\n",
    "import torch.nn.functional as F\n",
    "\n",
    "import importlib\n",
    "importlib.reload(iResNet)\n",
    "\n",
    "import numpy as np\n",
    "import matplotlib.pyplot as plt\n",
    "%matplotlib inline"
   ]
  },
  {
   "cell_type": "markdown",
   "metadata": {},
   "source": [
    "# iResNet"
   ]
  },
  {
   "cell_type": "code",
   "execution_count": 866,
   "metadata": {
    "ExecuteTime": {
     "end_time": "2021-04-24T06:15:02.696616Z",
     "start_time": "2021-04-24T06:15:02.686256Z"
    }
   },
   "outputs": [
    {
     "data": {
      "text/plain": [
       "<module 'test' from '/home/yanbo/Research/Lab/eLIFE/iResNetLab/src/test.py'>"
      ]
     },
     "execution_count": 866,
     "metadata": {},
     "output_type": "execute_result"
    }
   ],
   "source": [
    "import test\n",
    "importlib.reload(test)"
   ]
  },
  {
   "cell_type": "code",
   "execution_count": 964,
   "metadata": {
    "ExecuteTime": {
     "end_time": "2021-04-24T06:42:27.536619Z",
     "start_time": "2021-04-24T06:42:27.524914Z"
    }
   },
   "outputs": [
    {
     "data": {
      "text/plain": [
       "<module 'iResNet' from '/home/yanbo/Research/Lab/eLIFE/iResNetLab/src/iResNet.py'>"
      ]
     },
     "execution_count": 964,
     "metadata": {},
     "output_type": "execute_result"
    }
   ],
   "source": [
    "importlib.reload(iResNet)"
   ]
  },
  {
   "cell_type": "code",
   "execution_count": 965,
   "metadata": {
    "ExecuteTime": {
     "end_time": "2021-04-24T06:42:28.069992Z",
     "start_time": "2021-04-24T06:42:28.061916Z"
    }
   },
   "outputs": [],
   "source": [
    "model = iResNet.Sequential(iResNet.Nonlinear(dim=3, method='RealNVP'),\n",
    "                           iResNet.BatchNorm1d(3),\n",
    "                           iResNet.Nonlinear(dim=3, method='NICE'),\n",
    "                           iResNet.BatchNorm1d(3),\n",
    "                           iResNet.Nonlinear(dim=3, method='iResNet'),\n",
    "                           iResNet.Linear(3)\n",
    "                          )\n",
    "model.eval()\n",
    "x = torch.Tensor([[1,2,3],\n",
    "                  [4,5,6]])"
   ]
  },
  {
   "cell_type": "code",
   "execution_count": 966,
   "metadata": {
    "ExecuteTime": {
     "end_time": "2021-04-24T06:42:28.692500Z",
     "start_time": "2021-04-24T06:42:28.683215Z"
    }
   },
   "outputs": [
    {
     "data": {
      "text/plain": [
       "tensor([[-0.1524,  2.0053,  0.7008],\n",
       "        [ 1.5900,  2.8629,  4.4310]], grad_fn=<MmBackward>)"
      ]
     },
     "execution_count": 966,
     "metadata": {},
     "output_type": "execute_result"
    }
   ],
   "source": [
    "x.requires_grad = True\n",
    "model.computing_p(True)\n",
    "y, log_p, log_det = model(x)\n",
    "y"
   ]
  },
  {
   "cell_type": "code",
   "execution_count": 967,
   "metadata": {
    "ExecuteTime": {
     "end_time": "2021-04-24T06:42:29.296104Z",
     "start_time": "2021-04-24T06:42:29.288758Z"
    }
   },
   "outputs": [
    {
     "data": {
      "text/plain": [
       "tensor([[-0.1772,  2.0264,  0.7313],\n",
       "        [ 1.5008,  2.9699,  4.6239]], grad_fn=<MmBackward>)"
      ]
     },
     "execution_count": 967,
     "metadata": {},
     "output_type": "execute_result"
    }
   ],
   "source": [
    "x.requires_grad = True\n",
    "model.computing_p(False)\n",
    "y = model(x)\n",
    "y"
   ]
  },
  {
   "cell_type": "code",
   "execution_count": 968,
   "metadata": {
    "ExecuteTime": {
     "end_time": "2021-04-24T06:42:30.019923Z",
     "start_time": "2021-04-24T06:42:29.987188Z"
    }
   },
   "outputs": [
    {
     "data": {
      "text/plain": [
       "tensor([[1.0000, 2.0000, 3.0000],\n",
       "        [4.0000, 5.0000, 6.0000]], grad_fn=<AddBackward0>)"
      ]
     },
     "execution_count": 968,
     "metadata": {},
     "output_type": "execute_result"
    }
   ],
   "source": [
    "model.inverse(y)"
   ]
  },
  {
   "cell_type": "markdown",
   "metadata": {},
   "source": [
    "# NICE"
   ]
  },
  {
   "cell_type": "code",
   "execution_count": 761,
   "metadata": {
    "ExecuteTime": {
     "end_time": "2021-04-23T00:23:40.262652Z",
     "start_time": "2021-04-23T00:23:40.256571Z"
    }
   },
   "outputs": [
    {
     "data": {
      "text/plain": [
       "<module 'iResNet' from '/home/yanbo/Research/Lab/eLIFE/iResNetLab/src/iResNet.py'>"
      ]
     },
     "execution_count": 761,
     "metadata": {},
     "output_type": "execute_result"
    }
   ],
   "source": [
    "importlib.reload(iResNet)"
   ]
  },
  {
   "cell_type": "code",
   "execution_count": 771,
   "metadata": {
    "ExecuteTime": {
     "end_time": "2021-04-23T00:24:15.479951Z",
     "start_time": "2021-04-23T00:24:15.477296Z"
    }
   },
   "outputs": [],
   "source": [
    "model = iResNet.Nonlinear(dim=3, method='RealNVP')"
   ]
  },
  {
   "cell_type": "code",
   "execution_count": 772,
   "metadata": {
    "ExecuteTime": {
     "end_time": "2021-04-23T00:24:15.754868Z",
     "start_time": "2021-04-23T00:24:15.748163Z"
    }
   },
   "outputs": [
    {
     "data": {
      "text/plain": [
       "tensor([[ 0.7574,  3.2242,  7.5897],\n",
       "        [ 5.8476, 10.0628, 15.7218]], grad_fn=<AddBackward0>)"
      ]
     },
     "execution_count": 772,
     "metadata": {},
     "output_type": "execute_result"
    }
   ],
   "source": [
    "x = torch.Tensor([[1,2,3],\n",
    "                  [4,5,6]])\n",
    "\n",
    "model.eval()\n",
    "y = model(x)\n",
    "y"
   ]
  },
  {
   "cell_type": "code",
   "execution_count": 773,
   "metadata": {
    "ExecuteTime": {
     "end_time": "2021-04-23T00:24:16.836874Z",
     "start_time": "2021-04-23T00:24:16.827098Z"
    }
   },
   "outputs": [
    {
     "data": {
      "text/plain": [
       "tensor([[1.0000, 2.0000, 3.0000],\n",
       "        [4.0000, 5.0000, 6.0000]], grad_fn=<AddBackward0>)"
      ]
     },
     "execution_count": 773,
     "metadata": {},
     "output_type": "execute_result"
    }
   ],
   "source": [
    "model.inverse(y)"
   ]
  },
  {
   "cell_type": "code",
   "execution_count": null,
   "metadata": {},
   "outputs": [],
   "source": []
  },
  {
   "cell_type": "markdown",
   "metadata": {},
   "source": [
    "# Real NVP"
   ]
  },
  {
   "cell_type": "markdown",
   "metadata": {},
   "source": [
    "TODO: When s is too close to zero, it cannot inverse\n",
    "\n",
    "When log_s is to large, s will be NaN"
   ]
  },
  {
   "cell_type": "code",
   "execution_count": 647,
   "metadata": {
    "ExecuteTime": {
     "end_time": "2021-04-21T02:23:15.201939Z",
     "start_time": "2021-04-21T02:23:15.191655Z"
    }
   },
   "outputs": [
    {
     "data": {
      "text/plain": [
       "<module 'iResNet' from '/home/yanbo/Research/Lab/eLIFE/iResNetLab/src/iResNet.py'>"
      ]
     },
     "execution_count": 647,
     "metadata": {},
     "output_type": "execute_result"
    }
   ],
   "source": [
    "importlib.reload(iResNet)"
   ]
  },
  {
   "cell_type": "code",
   "execution_count": 663,
   "metadata": {
    "ExecuteTime": {
     "end_time": "2021-04-21T02:24:00.952459Z",
     "start_time": "2021-04-21T02:24:00.945669Z"
    }
   },
   "outputs": [],
   "source": [
    "model = iResNet.Sequential(iResNet.RealNVP(2),\n",
    "                           iResNet.BatchNorm1d(2),\n",
    "                           iResNet.RealNVP(2), iResNet.Linear(2))"
   ]
  },
  {
   "cell_type": "code",
   "execution_count": 671,
   "metadata": {
    "ExecuteTime": {
     "end_time": "2021-04-21T02:36:28.068262Z",
     "start_time": "2021-04-21T02:36:28.043288Z"
    }
   },
   "outputs": [
    {
     "data": {
      "text/plain": [
       "tensor([[1.0177, 2.0027],\n",
       "        [4.5006, 4.4941]], grad_fn=<MmBackward>)"
      ]
     },
     "execution_count": 671,
     "metadata": {},
     "output_type": "execute_result"
    }
   ],
   "source": [
    "x = torch.Tensor([[1,2],\n",
    "                  [4,5]])\n",
    "\n",
    "model.eval()\n",
    "y, log_p, logdet = model(x)\n",
    "y"
   ]
  },
  {
   "cell_type": "code",
   "execution_count": 672,
   "metadata": {
    "ExecuteTime": {
     "end_time": "2021-04-21T02:36:31.985209Z",
     "start_time": "2021-04-21T02:36:31.964081Z"
    }
   },
   "outputs": [
    {
     "data": {
      "text/plain": [
       "tensor([[1.0000, 2.0000],\n",
       "        [4.0000, 5.0000]], grad_fn=<AddBackward0>)"
      ]
     },
     "execution_count": 672,
     "metadata": {},
     "output_type": "execute_result"
    }
   ],
   "source": [
    "model.inverse(y)"
   ]
  },
  {
   "cell_type": "code",
   "execution_count": 633,
   "metadata": {
    "ExecuteTime": {
     "end_time": "2021-04-21T02:20:06.288219Z",
     "start_time": "2021-04-21T02:20:06.268854Z"
    }
   },
   "outputs": [
    {
     "data": {
      "text/plain": [
       "tensor([[-0.5895,  0.8078],\n",
       "        [ 0.8078,  0.5895]], grad_fn=<MmBackward>)"
      ]
     },
     "execution_count": 633,
     "metadata": {},
     "output_type": "execute_result"
    }
   ],
   "source": [
    "model[3].W()"
   ]
  },
  {
   "cell_type": "code",
   "execution_count": 666,
   "metadata": {
    "ExecuteTime": {
     "end_time": "2021-04-21T02:36:09.825800Z",
     "start_time": "2021-04-21T02:36:09.547968Z"
    }
   },
   "outputs": [],
   "source": [
    "lf = nn.MSELoss()\n",
    "optimizer = optim.Adam(model.parameters(), lr=0.01)\n",
    "\n",
    "for i in range(100):\n",
    "    optimizer.zero_grad()\n",
    "    target = torch.zeros((64, 2))\n",
    "    x = torch.randn((64,2))\n",
    "    \n",
    "    y,_,_ = model(x)\n",
    "    loss = lf(x, y)\n",
    "    loss.backward()\n",
    "    optimizer.step()"
   ]
  },
  {
   "cell_type": "code",
   "execution_count": 667,
   "metadata": {
    "ExecuteTime": {
     "end_time": "2021-04-21T02:36:10.744391Z",
     "start_time": "2021-04-21T02:36:10.727100Z"
    }
   },
   "outputs": [
    {
     "data": {
      "text/plain": [
       "tensor([[ 0.9402, -0.0957],\n",
       "        [ 0.1030,  1.0655]], grad_fn=<MmBackward>)"
      ]
     },
     "execution_count": 667,
     "metadata": {},
     "output_type": "execute_result"
    }
   ],
   "source": [
    "model[3].W()"
   ]
  },
  {
   "cell_type": "markdown",
   "metadata": {},
   "source": [
    "# NN"
   ]
  },
  {
   "cell_type": "code",
   "execution_count": 97,
   "metadata": {
    "ExecuteTime": {
     "end_time": "2021-04-16T21:09:47.864080Z",
     "start_time": "2021-04-16T21:09:47.861428Z"
    }
   },
   "outputs": [],
   "source": [
    "model = nn.Sequential(nn.Linear(1, 8), nn.ELU(), nn.Linear(8,8), nn.ELU(), nn.Linear(8,1))"
   ]
  },
  {
   "cell_type": "code",
   "execution_count": 103,
   "metadata": {
    "ExecuteTime": {
     "end_time": "2021-04-16T21:10:46.338234Z",
     "start_time": "2021-04-16T21:10:46.336008Z"
    }
   },
   "outputs": [],
   "source": [
    "x = torch.linspace(-3, 3, 50).reshape(-1,1)\n",
    "y = model(x)"
   ]
  },
  {
   "cell_type": "code",
   "execution_count": 106,
   "metadata": {
    "ExecuteTime": {
     "end_time": "2021-04-16T21:11:21.251093Z",
     "start_time": "2021-04-16T21:11:21.153265Z"
    }
   },
   "outputs": [
    {
     "data": {
      "text/plain": [
       "[<matplotlib.lines.Line2D at 0x7f654240ae10>]"
      ]
     },
     "execution_count": 106,
     "metadata": {},
     "output_type": "execute_result"
    },
    {
     "data": {
      "image/png": "[encoded data removed]",
      "text/plain": [
       "<Figure size 432x288 with 1 Axes>"
      ]
     },
     "metadata": {
      "needs_background": "light"
     },
     "output_type": "display_data"
    }
   ],
   "source": [
    "plt.plot(x.reshape(-1), y.reshape(-1).detach())"
   ]
  },
  {
   "cell_type": "markdown",
   "metadata": {},
   "source": [
    "# Invertible Linear"
   ]
  },
  {
   "cell_type": "code",
   "execution_count": 549,
   "metadata": {
    "ExecuteTime": {
     "end_time": "2021-04-21T01:36:29.460076Z",
     "start_time": "2021-04-21T01:36:29.454929Z"
    }
   },
   "outputs": [
    {
     "data": {
      "text/plain": [
       "<module 'iResNet' from '/home/yanbo/Research/Lab/eLIFE/iResNetLab/src/iResNet.py'>"
      ]
     },
     "execution_count": 549,
     "metadata": {},
     "output_type": "execute_result"
    }
   ],
   "source": [
    "importlib.reload(iResNet)"
   ]
  },
  {
   "cell_type": "code",
   "execution_count": 550,
   "metadata": {
    "ExecuteTime": {
     "end_time": "2021-04-21T01:36:29.867492Z",
     "start_time": "2021-04-21T01:36:29.847963Z"
    }
   },
   "outputs": [],
   "source": [
    "fcn = iResNet.Linear(3)"
   ]
  },
  {
   "cell_type": "code",
   "execution_count": 551,
   "metadata": {
    "ExecuteTime": {
     "end_time": "2021-04-21T01:36:30.328308Z",
     "start_time": "2021-04-21T01:36:30.301364Z"
    }
   },
   "outputs": [
    {
     "data": {
      "text/plain": [
       "tensor([[-1.7318,  5.7556,  2.0143],\n",
       "        [ 1.0602, -5.3518,  1.9082]], grad_fn=<MmBackward>)"
      ]
     },
     "execution_count": 551,
     "metadata": {},
     "output_type": "execute_result"
    }
   ],
   "source": [
    "y, p, logdet = fcn(torch.Tensor([[1,2,3], [-1,2,-3]]))\n",
    "y"
   ]
  },
  {
   "cell_type": "code",
   "execution_count": 552,
   "metadata": {
    "ExecuteTime": {
     "end_time": "2021-04-21T01:36:30.881038Z",
     "start_time": "2021-04-21T01:36:30.860096Z"
    }
   },
   "outputs": [
    {
     "data": {
      "text/plain": [
       "tensor([[ 1.0000,  2.0000,  3.0000],\n",
       "        [-1.0000,  2.0000, -3.0000]], grad_fn=<MmBackward>)"
      ]
     },
     "execution_count": 552,
     "metadata": {},
     "output_type": "execute_result"
    }
   ],
   "source": [
    "fcn.inverse(y)"
   ]
  },
  {
   "cell_type": "code",
   "execution_count": 553,
   "metadata": {
    "ExecuteTime": {
     "end_time": "2021-04-21T01:36:31.464325Z",
     "start_time": "2021-04-21T01:36:31.440798Z"
    }
   },
   "outputs": [
    {
     "data": {
      "text/plain": [
       "tensor([[ 0.6966, -0.1679, -0.6975],\n",
       "        [-0.6917,  0.1010,  2.0818],\n",
       "        [ 0.1905,  0.9806, -0.0458]], grad_fn=<MmBackward>)"
      ]
     },
     "execution_count": 553,
     "metadata": {},
     "output_type": "execute_result"
    }
   ],
   "source": [
    "fcn.W()"
   ]
  },
  {
   "cell_type": "code",
   "execution_count": 546,
   "metadata": {
    "ExecuteTime": {
     "end_time": "2021-04-21T01:35:03.581757Z",
     "start_time": "2021-04-21T01:35:03.571155Z"
    }
   },
   "outputs": [
    {
     "data": {
      "text/plain": [
       "tensor(9.3132e-08)"
      ]
     },
     "execution_count": 546,
     "metadata": {},
     "output_type": "execute_result"
    }
   ],
   "source": [
    "torch.sum(fcn.log_s)"
   ]
  },
  {
   "cell_type": "code",
   "execution_count": 548,
   "metadata": {
    "ExecuteTime": {
     "end_time": "2021-04-21T01:35:38.547710Z",
     "start_time": "2021-04-21T01:35:38.540120Z"
    }
   },
   "outputs": [
    {
     "name": "stdout",
     "output_type": "stream",
     "text": [
      "Help on function linear in module torch.nn.functional:\n",
      "\n",
      "linear(input: torch.Tensor, weight: torch.Tensor, bias: Union[torch.Tensor, NoneType] = None) -> torch.Tensor\n",
      "    Applies a linear transformation to the incoming data: :math:`y = xA^T + b`.\n",
      "    \n",
      "    This operator supports :ref:`TensorFloat32<tf32_on_ampere>`.\n",
      "    \n",
      "    Shape:\n",
      "    \n",
      "        - Input: :math:`(N, *, in\\_features)` N is the batch size, `*` means any number of\n",
      "          additional dimensions\n",
      "        - Weight: :math:`(out\\_features, in\\_features)`\n",
      "        - Bias: :math:`(out\\_features)`\n",
      "        - Output: :math:`(N, *, out\\_features)`\n",
      "\n"
     ]
    }
   ],
   "source": [
    "help(F.linear)"
   ]
  },
  {
   "cell_type": "markdown",
   "metadata": {},
   "source": [
    "# FCN"
   ]
  },
  {
   "cell_type": "code",
   "execution_count": 107,
   "metadata": {
    "ExecuteTime": {
     "end_time": "2021-04-16T21:15:45.503201Z",
     "start_time": "2021-04-16T21:15:45.499417Z"
    }
   },
   "outputs": [
    {
     "data": {
      "text/plain": [
       "FCN(\n",
       "  (net): SNFCN(\n",
       "    (g): Sequential(\n",
       "      (0): Linear(in_features=2, out_features=16, bias=True)\n",
       "      (1): GELU()\n",
       "      (2): Linear(in_features=16, out_features=16, bias=True)\n",
       "      (3): GELU()\n",
       "      (4): Linear(in_features=16, out_features=2, bias=True)\n",
       "    )\n",
       "  )\n",
       "  (noise): NormalDistribution()\n",
       ")"
      ]
     },
     "execution_count": 107,
     "metadata": {},
     "output_type": "execute_result"
    }
   ],
   "source": [
    "model = iResNet.FCN(2, 2)\n",
    "model"
   ]
  },
  {
   "cell_type": "code",
   "execution_count": 108,
   "metadata": {
    "ExecuteTime": {
     "end_time": "2021-04-16T21:15:49.598732Z",
     "start_time": "2021-04-16T21:15:49.594026Z"
    }
   },
   "outputs": [
    {
     "data": {
      "text/plain": [
       "tensor([[1.0678, 2.0415],\n",
       "        [3.1557, 4.0456]], grad_fn=<SliceBackward>)"
      ]
     },
     "execution_count": 108,
     "metadata": {},
     "output_type": "execute_result"
    }
   ],
   "source": [
    "x = torch.Tensor([[1,2], [3,4]])\n",
    "x.requires_grad = True\n",
    "model.train()\n",
    "\n",
    "y, p, logdet = model(x)\n",
    "y"
   ]
  },
  {
   "cell_type": "code",
   "execution_count": 109,
   "metadata": {
    "ExecuteTime": {
     "end_time": "2021-04-16T21:16:18.768406Z",
     "start_time": "2021-04-16T21:16:18.753534Z"
    }
   },
   "outputs": [
    {
     "data": {
      "text/plain": [
       "tensor([[1.0000, 2.0000],\n",
       "        [3.0000, 4.0000]])"
      ]
     },
     "execution_count": 109,
     "metadata": {},
     "output_type": "execute_result"
    }
   ],
   "source": [
    "model.inverse(y)"
   ]
  },
  {
   "cell_type": "markdown",
   "metadata": {},
   "source": [
    "## Sequential"
   ]
  },
  {
   "cell_type": "code",
   "execution_count": 113,
   "metadata": {
    "ExecuteTime": {
     "end_time": "2021-04-16T21:18:07.044871Z",
     "start_time": "2021-04-16T21:18:07.039262Z"
    }
   },
   "outputs": [
    {
     "name": "stdout",
     "output_type": "stream",
     "text": [
      "Sequential(\n",
      "  (0): FCN(\n",
      "    (net): SNFCN(\n",
      "      (g): Sequential(\n",
      "        (0): Linear(in_features=8, out_features=64, bias=True)\n",
      "        (1): GELU()\n",
      "        (2): Linear(in_features=64, out_features=64, bias=True)\n",
      "        (3): GELU()\n",
      "        (4): Linear(in_features=64, out_features=8, bias=True)\n",
      "      )\n",
      "    )\n",
      "    (noise): NormalDistribution()\n",
      "  )\n",
      "  (1): FCN(\n",
      "    (net): SNFCN(\n",
      "      (g): Sequential(\n",
      "        (0): Linear(in_features=8, out_features=64, bias=True)\n",
      "        (1): GELU()\n",
      "        (2): Linear(in_features=64, out_features=64, bias=True)\n",
      "        (3): GELU()\n",
      "        (4): Linear(in_features=64, out_features=8, bias=True)\n",
      "      )\n",
      "    )\n",
      "    (noise): NormalDistribution()\n",
      "  )\n",
      "  (2): FCN(\n",
      "    (net): SNFCN(\n",
      "      (g): Sequential(\n",
      "        (0): Linear(in_features=8, out_features=64, bias=True)\n",
      "        (1): GELU()\n",
      "        (2): Linear(in_features=64, out_features=64, bias=True)\n",
      "        (3): GELU()\n",
      "        (4): Linear(in_features=64, out_features=8, bias=True)\n",
      "      )\n",
      "    )\n",
      "    (noise): NormalDistribution()\n",
      "  )\n",
      ")\n"
     ]
    }
   ],
   "source": [
    "model = iResNet.Sequential(iResNet.FCN(8, 8),\n",
    "                           iResNet.FCN(8, 8),\n",
    "                           iResNet.FCN(8, 2))\n",
    "print(model)"
   ]
  },
  {
   "cell_type": "code",
   "execution_count": 117,
   "metadata": {
    "ExecuteTime": {
     "end_time": "2021-04-16T21:19:27.486484Z",
     "start_time": "2021-04-16T21:19:27.479701Z"
    }
   },
   "outputs": [
    {
     "data": {
      "text/plain": [
       "tensor([[0.9518, 0.1344]], grad_fn=<SliceBackward>)"
      ]
     },
     "execution_count": 117,
     "metadata": {},
     "output_type": "execute_result"
    }
   ],
   "source": [
    "x = torch.Tensor([[1,0,0,1,1,0,0,1]])\n",
    "x.requires_grad = True\n",
    "\n",
    "y, logp, log_det = model(x)\n",
    "y"
   ]
  },
  {
   "cell_type": "code",
   "execution_count": 120,
   "metadata": {
    "ExecuteTime": {
     "end_time": "2021-04-16T21:20:19.326052Z",
     "start_time": "2021-04-16T21:20:19.288821Z"
    }
   },
   "outputs": [
    {
     "data": {
      "text/plain": [
       "tensor([[ 0.9152,  0.0911,  1.7088,  1.6560,  0.9402,  0.2863,  1.4141, -0.5172]])"
      ]
     },
     "execution_count": 120,
     "metadata": {},
     "output_type": "execute_result"
    }
   ],
   "source": [
    "model.inverse(y)"
   ]
  },
  {
   "cell_type": "code",
   "execution_count": 111,
   "metadata": {
    "ExecuteTime": {
     "end_time": "2021-04-16T21:17:14.853625Z",
     "start_time": "2021-04-16T21:17:14.832487Z"
    }
   },
   "outputs": [
    {
     "data": {
      "text/plain": [
       "tensor([[ 1.1161,  2.0918],\n",
       "        [ 3.0046,  4.1585],\n",
       "        [-2.6586,  0.9173]], grad_fn=<SliceBackward>)"
      ]
     },
     "execution_count": 111,
     "metadata": {},
     "output_type": "execute_result"
    }
   ],
   "source": [
    "x = torch.Tensor([[1,2], [3,4], [-3,1]])\n",
    "x.requires_grad = True\n",
    "model.train()\n",
    "\n",
    "y, p, logdet = model(x)\n",
    "y"
   ]
  },
  {
   "cell_type": "code",
   "execution_count": 112,
   "metadata": {
    "ExecuteTime": {
     "end_time": "2021-04-16T21:17:27.100833Z",
     "start_time": "2021-04-16T21:17:27.061800Z"
    }
   },
   "outputs": [
    {
     "data": {
      "text/plain": [
       "tensor([[ 1.,  2.],\n",
       "        [ 3.,  4.],\n",
       "        [-3.,  1.]])"
      ]
     },
     "execution_count": 112,
     "metadata": {},
     "output_type": "execute_result"
    }
   ],
   "source": [
    "model.inverse(y)"
   ]
  },
  {
   "cell_type": "code",
   "execution_count": 62,
   "metadata": {
    "ExecuteTime": {
     "end_time": "2021-04-12T22:41:13.333099Z",
     "start_time": "2021-04-12T22:41:13.325701Z"
    }
   },
   "outputs": [
    {
     "data": {
      "text/plain": [
       "tensor([[ 0.8402,  2.0901],\n",
       "        [ 2.7896,  4.0990],\n",
       "        [-2.1957,  1.1529]], grad_fn=<SliceBackward>)"
      ]
     },
     "execution_count": 62,
     "metadata": {},
     "output_type": "execute_result"
    }
   ],
   "source": [
    "x = torch.Tensor([[1,2], [3,4], [-2, 1]])\n",
    "x.requires_grad = True\n",
    "model.eval()\n",
    "\n",
    "y = model(x)\n",
    "y"
   ]
  },
  {
   "cell_type": "code",
   "execution_count": 20,
   "metadata": {
    "ExecuteTime": {
     "end_time": "2021-04-12T06:00:36.598052Z",
     "start_time": "2021-04-12T06:00:36.546902Z"
    }
   },
   "outputs": [
    {
     "data": {
      "text/plain": [
       "tensor([[ 1.0000,  2.0000],\n",
       "        [ 3.0000,  4.0000],\n",
       "        [-2.0000,  1.0000]])"
      ]
     },
     "execution_count": 20,
     "metadata": {},
     "output_type": "execute_result"
    }
   ],
   "source": [
    "model.inverse(y.detach())"
   ]
  },
  {
   "cell_type": "markdown",
   "metadata": {},
   "source": [
    "# Conv1d"
   ]
  },
  {
   "cell_type": "code",
   "execution_count": 84,
   "metadata": {
    "ExecuteTime": {
     "end_time": "2021-04-12T22:42:59.739985Z",
     "start_time": "2021-04-12T22:42:59.718659Z"
    }
   },
   "outputs": [
    {
     "data": {
      "text/plain": [
       "Sequential(\n",
       "  (0): Conv1d(\n",
       "    (net): SNCov1d(\n",
       "      (net): Sequential(\n",
       "        (0): Conv1d(2, 16, kernel_size=(3,), stride=(1,), padding=(1,))\n",
       "        (1): GELU()\n",
       "        (2): Conv1d(16, 16, kernel_size=(3,), stride=(1,), padding=(1,))\n",
       "        (3): GELU()\n",
       "        (4): Conv1d(16, 2, kernel_size=(3,), stride=(1,), padding=(1,))\n",
       "      )\n",
       "    )\n",
       "  )\n",
       "  (1): Conv1d(\n",
       "    (net): SNCov1d(\n",
       "      (net): Sequential(\n",
       "        (0): Conv1d(2, 16, kernel_size=(1,), stride=(1,))\n",
       "        (1): GELU()\n",
       "        (2): Conv1d(16, 16, kernel_size=(1,), stride=(1,))\n",
       "        (3): GELU()\n",
       "        (4): Conv1d(16, 2, kernel_size=(1,), stride=(1,))\n",
       "      )\n",
       "    )\n",
       "  )\n",
       "  (2): Conv1d(\n",
       "    (net): SNCov1d(\n",
       "      (net): Sequential(\n",
       "        (0): Conv1d(2, 16, kernel_size=(3,), stride=(1,), padding=(1,))\n",
       "        (1): GELU()\n",
       "        (2): Conv1d(16, 16, kernel_size=(3,), stride=(1,), padding=(1,))\n",
       "        (3): GELU()\n",
       "        (4): Conv1d(16, 2, kernel_size=(3,), stride=(1,), padding=(1,))\n",
       "      )\n",
       "    )\n",
       "  )\n",
       ")"
      ]
     },
     "execution_count": 84,
     "metadata": {},
     "output_type": "execute_result"
    }
   ],
   "source": [
    "model = iResNet.Sequential(iResNet.Conv1d(channel=2, kernel_size=3),\n",
    "                           iResNet.Conv1d(channel=2, kernel_size=1),\n",
    "                           iResNet.Conv1d(channel=2, kernel_size=3))\n",
    "model"
   ]
  },
  {
   "cell_type": "code",
   "execution_count": 85,
   "metadata": {
    "ExecuteTime": {
     "end_time": "2021-04-12T22:43:00.394851Z",
     "start_time": "2021-04-12T22:43:00.381085Z"
    }
   },
   "outputs": [
    {
     "data": {
      "text/plain": [
       "tensor([[[ 9.8334e-01,  2.0234e+00,  3.0385e+00,  4.2037e+00,  5.1804e+00],\n",
       "         [-1.1709e+00, -2.1974e+00, -3.2554e+00, -4.2121e+00, -5.1788e+00]],\n",
       "\n",
       "        [[ 1.0371e+00,  2.0080e+00, -2.1772e-03,  4.1299e+00,  5.2609e+00],\n",
       "         [-1.1364e+00, -2.1973e+00, -2.2076e-01, -4.2422e+00, -5.1010e+00]]],\n",
       "       grad_fn=<AddBackward0>)"
      ]
     },
     "execution_count": 85,
     "metadata": {},
     "output_type": "execute_result"
    }
   ],
   "source": [
    "x = torch.Tensor([[[1,2,3,4,5],[-1,-2,-3,-4,-5]], [[1,2,0,4,5],[-1,-2,0,-4,-5]]])\n",
    "x.requires_grad = True\n",
    "\n",
    "y, logp, logdet = model(x)\n",
    "y"
   ]
  },
  {
   "cell_type": "code",
   "execution_count": 86,
   "metadata": {
    "ExecuteTime": {
     "end_time": "2021-04-12T22:43:06.577360Z",
     "start_time": "2021-04-12T22:43:06.470605Z"
    }
   },
   "outputs": [
    {
     "data": {
      "text/plain": [
       "tensor([[[ 1.0000e+00,  2.0000e+00,  3.0000e+00,  4.0000e+00,  5.0000e+00],\n",
       "         [-1.0000e+00, -2.0000e+00, -3.0000e+00, -4.0000e+00, -5.0000e+00]],\n",
       "\n",
       "        [[ 1.0000e+00,  2.0000e+00,  1.4901e-08,  4.0000e+00,  5.0000e+00],\n",
       "         [-1.0000e+00, -2.0000e+00, -4.4703e-08, -4.0000e+00, -5.0000e+00]]])"
      ]
     },
     "execution_count": 86,
     "metadata": {},
     "output_type": "execute_result"
    }
   ],
   "source": [
    "model.inverse(y)"
   ]
  },
  {
   "cell_type": "markdown",
   "metadata": {},
   "source": [
    "# Conv2d"
   ]
  },
  {
   "cell_type": "code",
   "execution_count": 121,
   "metadata": {
    "ExecuteTime": {
     "end_time": "2021-04-16T21:21:11.178446Z",
     "start_time": "2021-04-16T21:21:11.174155Z"
    }
   },
   "outputs": [],
   "source": [
    "import numpy as np\n",
    "import matplotlib.pyplot as plt\n",
    "%matplotlib inline"
   ]
  },
  {
   "cell_type": "code",
   "execution_count": 124,
   "metadata": {
    "ExecuteTime": {
     "end_time": "2021-04-16T21:21:27.639965Z",
     "start_time": "2021-04-16T21:21:27.548651Z"
    }
   },
   "outputs": [],
   "source": [
    "model = iResNet.Sequential(iResNet.Conv2d(channel=3, kernel_size=3),\n",
    "                           iResNet.Conv2d(channel=3, kernel_size=3),\n",
    "                           iResNet.Conv2d(channel=3, kernel_size=3),\n",
    "                           iResNet.Conv2d(channel=3, kernel_size=3),\n",
    "                           iResNet.Conv2d(channel=3, kernel_size=3),\n",
    "                           iResNet.Conv2d(channel=3, kernel_size=3)\n",
    "                          )"
   ]
  },
  {
   "cell_type": "code",
   "execution_count": 125,
   "metadata": {
    "ExecuteTime": {
     "end_time": "2021-04-16T21:21:41.531063Z",
     "start_time": "2021-04-16T21:21:28.277901Z"
    }
   },
   "outputs": [],
   "source": [
    "optimizer = optim.Adam(model.parameters(), lr=0.01)\n",
    "\n",
    "for i in range(100):\n",
    "    optimizer.zero_grad()\n",
    "    x = torch.Tensor([[[[1,1,1],[0,1,0],[0,1,0]], [[0,1,0],[1,1,1],[0,1,0]], [[1,1,1],[0,1,0],[0,1,0]]]])\n",
    "    x.requires_grad = True\n",
    "    \n",
    "    target = torch.Tensor([[[[0,0,0],[0,1,0],[0,0,0]], [[0,0,0],[0,1,0],[0,0,0]],[[0,0,0],[0,1,0],[0,0,0]]]])\n",
    "    y, logp, logdet = model(x)\n",
    "    loss = nn.MSELoss()(y, target)\n",
    "    loss.backward()\n",
    "    \n",
    "    optimizer.step()"
   ]
  },
  {
   "cell_type": "code",
   "execution_count": 126,
   "metadata": {
    "ExecuteTime": {
     "end_time": "2021-04-16T21:21:57.179117Z",
     "start_time": "2021-04-16T21:21:56.926609Z"
    }
   },
   "outputs": [
    {
     "data": {
      "text/plain": [
       "torch.Size([1, 3, 3, 3])"
      ]
     },
     "execution_count": 126,
     "metadata": {},
     "output_type": "execute_result"
    }
   ],
   "source": [
    "x = torch.Tensor([[[[1,1,1],[0,1,0],[0,1,0]], [[1,1,1],[0,1,0],[0,1,0]], [[1,1,1],[0,1,0],[0,1,0]]]])\n",
    "x.requires_grad = True\n",
    "\n",
    "y, logp, logdet = model(x)\n",
    "y.shape"
   ]
  },
  {
   "cell_type": "code",
   "execution_count": 16,
   "metadata": {
    "ExecuteTime": {
     "end_time": "2021-04-13T07:20:46.966541Z",
     "start_time": "2021-04-13T07:20:46.854419Z"
    }
   },
   "outputs": [
    {
     "data": {
      "text/plain": [
       "tensor([[[[ 1.0000e+00,  1.0000e+00,  1.0000e+00],\n",
       "          [ 0.0000e+00,  1.0000e+00,  5.5879e-09],\n",
       "          [ 3.7253e-09,  1.0000e+00, -3.7253e-09]],\n",
       "\n",
       "         [[ 1.0000e+00,  1.0000e+00,  1.0000e+00],\n",
       "          [-6.9849e-09,  1.0000e+00, -6.9849e-09],\n",
       "          [-1.8626e-09,  1.0000e+00,  9.3132e-09]],\n",
       "\n",
       "         [[ 1.0000e+00,  1.0000e+00,  1.0000e+00],\n",
       "          [ 0.0000e+00,  1.0000e+00,  9.7789e-09],\n",
       "          [-1.8626e-09,  1.0000e+00, -6.9849e-09]]]])"
      ]
     },
     "execution_count": 16,
     "metadata": {},
     "output_type": "execute_result"
    }
   ],
   "source": [
    "model.inverse(y)"
   ]
  },
  {
   "cell_type": "code",
   "execution_count": 133,
   "metadata": {
    "ExecuteTime": {
     "end_time": "2021-04-16T21:22:43.283716Z",
     "start_time": "2021-04-16T21:22:43.212005Z"
    }
   },
   "outputs": [
    {
     "data": {
      "image/png": "[encoded data removed]",
      "text/plain": [
       "<Figure size 432x288 with 1 Axes>"
      ]
     },
     "metadata": {
      "needs_background": "light"
     },
     "output_type": "display_data"
    }
   ],
   "source": [
    "plt.imshow(1-x[0,0].detach(), cmap='gray')\n",
    "plt.title('x')\n",
    "#plt.savefig('cov2d_x.png')\n",
    "plt.show()"
   ]
  },
  {
   "cell_type": "code",
   "execution_count": 135,
   "metadata": {
    "ExecuteTime": {
     "end_time": "2021-04-16T21:22:56.727563Z",
     "start_time": "2021-04-16T21:22:56.645999Z"
    }
   },
   "outputs": [
    {
     "data": {
      "image/png": "[encoded data removed]",
      "text/plain": [
       "<Figure size 432x288 with 1 Axes>"
      ]
     },
     "metadata": {
      "needs_background": "light"
     },
     "output_type": "display_data"
    }
   ],
   "source": [
    "plt.imshow(1-y[0,0].detach(), cmap='gray')\n",
    "plt.title('$y=f(x)$')\n",
    "#plt.savefig('cov2d_y.png')\n",
    "plt.show()"
   ]
  },
  {
   "cell_type": "code",
   "execution_count": 136,
   "metadata": {
    "ExecuteTime": {
     "end_time": "2021-04-16T21:23:06.231416Z",
     "start_time": "2021-04-16T21:23:03.552572Z"
    }
   },
   "outputs": [
    {
     "data": {
      "text/plain": [
       "tensor([[[[ 1.0000e+00,  1.0000e+00,  1.0000e+00],\n",
       "          [-3.3528e-08,  1.0000e+00,  7.4506e-09],\n",
       "          [ 2.6077e-08,  1.0000e+00,  7.4506e-09]],\n",
       "\n",
       "         [[ 1.0000e+00,  1.0000e+00,  1.0000e+00],\n",
       "          [ 0.0000e+00,  1.0000e+00, -8.9407e-08],\n",
       "          [ 4.8429e-08,  1.0000e+00,  2.9802e-08]],\n",
       "\n",
       "         [[ 1.0000e+00,  1.0000e+00,  1.0000e+00],\n",
       "          [-1.4901e-08,  1.0000e+00,  7.4506e-09],\n",
       "          [ 2.2352e-08,  1.0000e+00,  7.4506e-09]]]])"
      ]
     },
     "execution_count": 136,
     "metadata": {},
     "output_type": "execute_result"
    }
   ],
   "source": [
    "xhat = model.inverse(y)\n",
    "xhat"
   ]
  },
  {
   "cell_type": "code",
   "execution_count": 137,
   "metadata": {
    "ExecuteTime": {
     "end_time": "2021-04-16T21:23:12.640159Z",
     "start_time": "2021-04-16T21:23:12.554073Z"
    }
   },
   "outputs": [
    {
     "data": {
      "image/png": "[encoded data removed]",
      "text/plain": [
       "<Figure size 432x288 with 1 Axes>"
      ]
     },
     "metadata": {
      "needs_background": "light"
     },
     "output_type": "display_data"
    }
   ],
   "source": [
    "plt.imshow(1-xhat[0,0].detach(), cmap='gray')\n",
    "plt.title('$\\hat x = f^{-1}(y)$')\n",
    "#plt.savefig('cov2d_x_hat.png')\n",
    "plt.show()"
   ]
  },
  {
   "cell_type": "code",
   "execution_count": 107,
   "metadata": {
    "ExecuteTime": {
     "end_time": "2021-04-12T22:50:40.225831Z",
     "start_time": "2021-04-12T22:50:39.981246Z"
    }
   },
   "outputs": [
    {
     "data": {
      "image/png": "[encoded data removed]",
      "text/plain": [
       "<Figure size 864x288 with 3 Axes>"
      ]
     },
     "metadata": {
      "needs_background": "light"
     },
     "output_type": "display_data"
    }
   ],
   "source": [
    "fig = plt.figure(figsize=(12,4))\n",
    "\n",
    "fig = plt.subplot(131)\n",
    "plt.imshow(1-x[0, 0].detach(), cmap='gray')\n",
    "plt.title('x')\n",
    "\n",
    "fig = plt.subplot(132)\n",
    "plt.imshow(1-y[0, 0].detach(), cmap='gray')\n",
    "plt.title('$y=f(x)$')\n",
    "\n",
    "fig = plt.subplot(133)\n",
    "plt.imshow(1-xhat[0, 0].detach(), cmap='gray')\n",
    "plt.title('$\\hat x = f^{-1}(y)$')\n",
    "\n",
    "#plt.savefig('../images/cov2d.png')\n",
    "plt.show()"
   ]
  },
  {
   "cell_type": "code",
   "execution_count": 6,
   "metadata": {},
   "outputs": [],
   "source": [
    "import numpy as np\n",
    "import random\n",
    "\n",
    "import torch\n",
    "import torch.nn as nn\n",
    "import torch.nn.functional as F\n",
    "import torch.utils.data as data\n",
    "import torch.optim as optim"
   ]
  },
  {
   "cell_type": "code",
   "execution_count": 48,
   "metadata": {},
   "outputs": [],
   "source": [
    "class _MuVar(nn.Module):\n",
    "    r'''\n",
    "    Abstract class of MuVar\n",
    "    '''\n",
    "    def __init__(self, feature_in, feature_out, eps=1e-8):\n",
    "        super(_MuVar, self).__init__()\n",
    "        self.feature_in = feature_in\n",
    "        self.feature_out = feature_out\n",
    "        self.feature_y = feature_out\n",
    "        self.feature_z = feature_in - feature_out\n",
    "        self.eps = eps\n",
    "    \n",
    "    def _initialize_weights(self):\n",
    "        raise NotImplementedError('initialization not implemented!')\n",
    "    \n",
    "    def exp_var(self, log_var):\n",
    "        return self.eps + torch.exp(log_var)\n",
    "\n",
    "\n",
    "class MuVarVector(_MuVar):\n",
    "    def __init__(self, feature_in, feature_out):\n",
    "        super(MuVarVector, self).__init__(feature_in, feature_out)\n",
    "        self.linear_mu = nn.Linear(self.feature_y, self.feature_z)\n",
    "        self.linear_log_var = nn.Linear(self.feature_y, self.feature_z)\n",
    "        self._initialize_weights()\n",
    "    \n",
    "    def _initialize_weights(self):\n",
    "        nn.init.xavier_uniform_(self.linear_mu.weight)\n",
    "        nn.init.zeros_(self.linear_mu.bias)\n",
    "        nn.init.zeros_(self.linear_log_var.weight)\n",
    "        nn.init.zeros_(self.linear_log_var.bias)\n",
    "\n",
    "    def forward(self, y):\n",
    "        mu = self.linear_mu(y)\n",
    "        var = self.exp_var(self.linear_log_var(y))\n",
    "        log_det = -1 * torch.log(var).sum(dim=-1)\n",
    "        return mu, var, log_det\n",
    "\n",
    "\n",
    "class MuVar1d(_MuVar):\n",
    "    def __init__(self, feature_in, feature_out):\n",
    "        super(MuVar1d, self).__init__(feature_in, feature_out)\n",
    "        self.conv_mu = nn.Conv1d(in_channels=self.feature_y, out_channels=self.feature_z, kernel_size=3)\n",
    "        self.conv_log_var = nn.Conv1d(in_channels=self.feature_y, out_channels=self.feature_z, kernel_size=3)\n",
    "        self._initialize_weights()\n",
    "    \n",
    "    def _initialize_weights(self):\n",
    "        nn.init.xavier_uniform_(self.conv_mu.weight)\n",
    "        nn.init.zeros_(self.conv_mu.bias)\n",
    "        nn.init.zeros_(self.conv_log_var.weight)\n",
    "        nn.init.zeros_(self.conv_log_var.bias)\n",
    "    \n",
    "    def forward(self, y):\n",
    "        mu = self.conv_mu(y)\n",
    "        var = self.exp_var(self.conv_log_var(y))\n",
    "        batch = var.shape[0]\n",
    "        log_det = -1 * torch.log(var).reshape(batch, -1).sum(dim=-1)\n",
    "        return mu, var, log_det\n",
    "\n",
    "\n",
    "class MuVar2d(_MuVar):\n",
    "    def __init__(self, num_feature):\n",
    "        super(MuVar2d, self).__init__(num_feature)\n",
    "\n",
    "\n",
    "class MuVar(nn.Module):\n",
    "    r'''\n",
    "    Estimate mean and var when doing feature rescale.\n",
    "    '''\n",
    "    def __init__(self, feature_in, feature_out):\n",
    "        super(MuVar, self).__init__()\n",
    "        self.initialized = False\n",
    "        self.feature_in = feature_in\n",
    "        self.feature_out = feature_out\n",
    "    \n",
    "    def _initialize(self, y):\n",
    "        # initialize mu and var based on shape of y\n",
    "        batch, *shape = y.shape\n",
    "        num_features = shape[0]\n",
    "        self.initialized = True\n",
    "        if len(shape) == 1:\n",
    "            self.mu_var = MuVarVector(self.feature_in, self.feature_out)\n",
    "            return\n",
    "        if len(shape) == 2:\n",
    "            self.mu_var = MuVar1d(self.feature_in, self.feature_out)\n",
    "            return\n",
    "        if len(shape) == 3:\n",
    "            self.mu_var = MuVar2d(self.feature_in, self.feature_out)\n",
    "            return\n",
    "    \n",
    "    def forward(self, y):\n",
    "        if not self.initialized:\n",
    "            self._initialize(y)\n",
    "        \n",
    "        return self.mu_var(y)"
   ]
  },
  {
   "cell_type": "code",
   "execution_count": 49,
   "metadata": {},
   "outputs": [],
   "source": [
    "model = MuVar(7, 4)"
   ]
  },
  {
   "cell_type": "code",
   "execution_count": 50,
   "metadata": {},
   "outputs": [],
   "source": [
    "y = torch.randn(2, 4, 10)"
   ]
  },
  {
   "cell_type": "code",
   "execution_count": 51,
   "metadata": {},
   "outputs": [
    {
     "output_type": "execute_result",
     "data": {
      "text/plain": [
       "(tensor([[[ 0.5101, -0.4526,  0.7442, -1.0809,  1.0826,  1.0608,  0.8303,\n",
       "           -0.8194],\n",
       "          [-0.6540, -0.9358, -0.5490,  1.4620, -0.6793, -1.2207,  1.8146,\n",
       "           -0.4576],\n",
       "          [ 0.4398,  0.3122,  2.2329, -0.3802, -0.2253,  0.1126, -1.2366,\n",
       "            0.2262]],\n",
       " \n",
       "         [[ 0.5818, -0.3430, -0.4689,  0.3749, -1.0408,  0.2286, -0.9115,\n",
       "            0.5698],\n",
       "          [-2.9417, -0.6848, -0.0546, -0.6493,  0.4316, -0.9440, -0.9039,\n",
       "           -1.9271],\n",
       "          [ 0.5617,  0.3300, -0.0517,  0.5858,  0.6724,  0.0683,  0.5490,\n",
       "            1.1368]]], grad_fn=<SqueezeBackward1>),\n",
       " tensor([[[1., 1., 1., 1., 1., 1., 1., 1.],\n",
       "          [1., 1., 1., 1., 1., 1., 1., 1.],\n",
       "          [1., 1., 1., 1., 1., 1., 1., 1.]],\n",
       " \n",
       "         [[1., 1., 1., 1., 1., 1., 1., 1.],\n",
       "          [1., 1., 1., 1., 1., 1., 1., 1.],\n",
       "          [1., 1., 1., 1., 1., 1., 1., 1.]]], grad_fn=<AddBackward0>),\n",
       " tensor([-0., -0.], grad_fn=<MulBackward0>))"
      ]
     },
     "metadata": {},
     "execution_count": 51
    }
   ],
   "source": [
    "model(y)"
   ]
  },
  {
   "cell_type": "code",
   "execution_count": null,
   "metadata": {},
   "outputs": [],
   "source": []
  }
 ],
 "metadata": {
  "kernelspec": {
   "name": "python36764bitbasecondae4132897c1e94310985f5436de80913d",
   "display_name": "Python 3.6.7 64-bit ('base': conda)"
  },
  "language_info": {
   "codemirror_mode": {
    "name": "ipython",
    "version": 3
   },
   "file_extension": ".py",
   "mimetype": "text/x-python",
   "name": "python",
   "nbconvert_exporter": "python",
   "pygments_lexer": "ipython3",
   "version": "3.6.7"
  },
  "toc": {
   "base_numbering": 1,
   "nav_menu": {},
   "number_sections": true,
   "sideBar": true,
   "skip_h1_title": false,
   "title_cell": "Table of Contents",
   "title_sidebar": "Contents",
   "toc_cell": false,
   "toc_position": {},
   "toc_section_display": true,
   "toc_window_display": true
  },
  "metadata": {
   "interpreter": {
    "hash": "19137a544274f3697223cbb947fb5ed7ac1029ec7b639e2517934075bd074258"
   }
  }
 },
 "nbformat": 4,
 "nbformat_minor": 4
}