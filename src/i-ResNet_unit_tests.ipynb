{
 "cells": [
  {
   "cell_type": "code",
   "execution_count": 34,
   "metadata": {
    "ExecuteTime": {
     "end_time": "2021-04-12T22:38:53.882381Z",
     "start_time": "2021-04-12T22:38:53.875155Z"
    }
   },
   "outputs": [
    {
     "data": {
      "text/plain": [
       "<module 'iResNet' from '/home/yanbo/Research/Lab/eLIFE/iResNetLab/src/iResNet.py'>"
      ]
     },
     "execution_count": 34,
     "metadata": {},
     "output_type": "execute_result"
    }
   ],
   "source": [
    "import iResNet\n",
    "\n",
    "import torch\n",
    "import torch.nn as nn\n",
    "import torch.utils.data as data\n",
    "import torch.optim as optim\n",
    "\n",
    "import importlib\n",
    "importlib.reload(iResNet)"
   ]
  },
  {
   "cell_type": "markdown",
   "metadata": {},
   "source": [
    "# FCN"
   ]
  },
  {
   "cell_type": "code",
   "execution_count": 52,
   "metadata": {
    "ExecuteTime": {
     "end_time": "2021-04-12T22:40:46.040074Z",
     "start_time": "2021-04-12T22:40:46.033592Z"
    }
   },
   "outputs": [
    {
     "data": {
      "text/plain": [
       "FCN(\n",
       "  (net): SNFCN(\n",
       "    (g): Sequential(\n",
       "      (0): Linear(in_features=2, out_features=16, bias=True)\n",
       "      (1): GELU()\n",
       "      (2): Linear(in_features=16, out_features=16, bias=True)\n",
       "      (3): GELU()\n",
       "      (4): Linear(in_features=16, out_features=2, bias=True)\n",
       "    )\n",
       "  )\n",
       "  (noise): NormalDistribution()\n",
       ")"
      ]
     },
     "execution_count": 52,
     "metadata": {},
     "output_type": "execute_result"
    }
   ],
   "source": [
    "model = iResNet.FCN(2, 1)\n",
    "model"
   ]
  },
  {
   "cell_type": "code",
   "execution_count": 53,
   "metadata": {
    "ExecuteTime": {
     "end_time": "2021-04-12T22:40:46.943567Z",
     "start_time": "2021-04-12T22:40:46.936046Z"
    }
   },
   "outputs": [
    {
     "data": {
      "text/plain": [
       "tensor([[0.7239],\n",
       "        [2.7052]], grad_fn=<SliceBackward>)"
      ]
     },
     "execution_count": 53,
     "metadata": {},
     "output_type": "execute_result"
    }
   ],
   "source": [
    "x = torch.Tensor([[1,2], [3,4]])\n",
    "x.requires_grad = True\n",
    "model.train()\n",
    "\n",
    "y, p, logdet = model(x)\n",
    "y"
   ]
  },
  {
   "cell_type": "code",
   "execution_count": 55,
   "metadata": {
    "ExecuteTime": {
     "end_time": "2021-04-12T22:40:51.813875Z",
     "start_time": "2021-04-12T22:40:51.808692Z"
    }
   },
   "outputs": [
    {
     "data": {
      "text/plain": [
       "tensor([ -3.5499, -15.0331], grad_fn=<AddBackward0>)"
      ]
     },
     "execution_count": 55,
     "metadata": {},
     "output_type": "execute_result"
    }
   ],
   "source": [
    "p"
   ]
  },
  {
   "cell_type": "code",
   "execution_count": 59,
   "metadata": {
    "ExecuteTime": {
     "end_time": "2021-04-12T22:41:05.316894Z",
     "start_time": "2021-04-12T22:41:05.293549Z"
    }
   },
   "outputs": [
    {
     "data": {
      "text/plain": [
       "tensor([[1.0064, 2.3960],\n",
       "        [2.9619, 0.1218]])"
      ]
     },
     "execution_count": 59,
     "metadata": {},
     "output_type": "execute_result"
    }
   ],
   "source": [
    "model.inverse(y.detach())"
   ]
  },
  {
   "cell_type": "markdown",
   "metadata": {},
   "source": [
    "## Sequential"
   ]
  },
  {
   "cell_type": "code",
   "execution_count": 69,
   "metadata": {
    "ExecuteTime": {
     "end_time": "2021-04-12T22:41:47.457688Z",
     "start_time": "2021-04-12T22:41:47.449186Z"
    }
   },
   "outputs": [
    {
     "name": "stdout",
     "output_type": "stream",
     "text": [
      "Sequential(\n",
      "  (0): FCN(\n",
      "    (net): SNFCN(\n",
      "      (g): Sequential(\n",
      "        (0): Linear(in_features=2, out_features=16, bias=True)\n",
      "        (1): GELU()\n",
      "        (2): Linear(in_features=16, out_features=16, bias=True)\n",
      "        (3): GELU()\n",
      "        (4): Linear(in_features=16, out_features=2, bias=True)\n",
      "      )\n",
      "    )\n",
      "    (noise): NormalDistribution()\n",
      "  )\n",
      "  (1): FCN(\n",
      "    (net): SNFCN(\n",
      "      (g): Sequential(\n",
      "        (0): Linear(in_features=2, out_features=16, bias=True)\n",
      "        (1): GELU()\n",
      "        (2): Linear(in_features=16, out_features=16, bias=True)\n",
      "        (3): GELU()\n",
      "        (4): Linear(in_features=16, out_features=2, bias=True)\n",
      "      )\n",
      "    )\n",
      "    (noise): NormalDistribution()\n",
      "  )\n",
      "  (2): FCN(\n",
      "    (net): SNFCN(\n",
      "      (g): Sequential(\n",
      "        (0): Linear(in_features=2, out_features=16, bias=True)\n",
      "        (1): GELU()\n",
      "        (2): Linear(in_features=16, out_features=16, bias=True)\n",
      "        (3): GELU()\n",
      "        (4): Linear(in_features=16, out_features=2, bias=True)\n",
      "      )\n",
      "    )\n",
      "    (noise): NormalDistribution()\n",
      "  )\n",
      ")\n"
     ]
    }
   ],
   "source": [
    "model = iResNet.Sequential(iResNet.FCN(2, 2),\n",
    "                           iResNet.FCN(2, 2),\n",
    "                           iResNet.FCN(2, 1))\n",
    "print(model)"
   ]
  },
  {
   "cell_type": "code",
   "execution_count": 70,
   "metadata": {
    "ExecuteTime": {
     "end_time": "2021-04-12T22:41:49.531738Z",
     "start_time": "2021-04-12T22:41:49.521614Z"
    }
   },
   "outputs": [
    {
     "data": {
      "text/plain": [
       "tensor([[ 1.5428],\n",
       "        [ 3.9347],\n",
       "        [-2.7151]], grad_fn=<SliceBackward>)"
      ]
     },
     "execution_count": 70,
     "metadata": {},
     "output_type": "execute_result"
    }
   ],
   "source": [
    "x = torch.Tensor([[1,2], [3,4], [-3,1]])\n",
    "x.requires_grad = True\n",
    "model.train()\n",
    "\n",
    "y, p, logdet = model(x)\n",
    "y"
   ]
  },
  {
   "cell_type": "code",
   "execution_count": 72,
   "metadata": {
    "ExecuteTime": {
     "end_time": "2021-04-12T22:41:56.746865Z",
     "start_time": "2021-04-12T22:41:56.737129Z"
    }
   },
   "outputs": [
    {
     "data": {
      "text/plain": [
       "tensor([ 0.3496, -0.0291,  0.2453], grad_fn=<AddBackward0>)"
      ]
     },
     "execution_count": 72,
     "metadata": {},
     "output_type": "execute_result"
    }
   ],
   "source": [
    "logdet"
   ]
  },
  {
   "cell_type": "code",
   "execution_count": 62,
   "metadata": {
    "ExecuteTime": {
     "end_time": "2021-04-12T22:41:13.333099Z",
     "start_time": "2021-04-12T22:41:13.325701Z"
    }
   },
   "outputs": [
    {
     "data": {
      "text/plain": [
       "tensor([[ 0.8402,  2.0901],\n",
       "        [ 2.7896,  4.0990],\n",
       "        [-2.1957,  1.1529]], grad_fn=<SliceBackward>)"
      ]
     },
     "execution_count": 62,
     "metadata": {},
     "output_type": "execute_result"
    }
   ],
   "source": [
    "x = torch.Tensor([[1,2], [3,4], [-2, 1]])\n",
    "x.requires_grad = True\n",
    "model.eval()\n",
    "\n",
    "y = model(x)\n",
    "y"
   ]
  },
  {
   "cell_type": "code",
   "execution_count": 20,
   "metadata": {
    "ExecuteTime": {
     "end_time": "2021-04-12T06:00:36.598052Z",
     "start_time": "2021-04-12T06:00:36.546902Z"
    }
   },
   "outputs": [
    {
     "data": {
      "text/plain": [
       "tensor([[ 1.0000,  2.0000],\n",
       "        [ 3.0000,  4.0000],\n",
       "        [-2.0000,  1.0000]])"
      ]
     },
     "execution_count": 20,
     "metadata": {},
     "output_type": "execute_result"
    }
   ],
   "source": [
    "model.inverse(y.detach())"
   ]
  },
  {
   "cell_type": "markdown",
   "metadata": {},
   "source": [
    "# Conv1d"
   ]
  },
  {
   "cell_type": "code",
   "execution_count": 84,
   "metadata": {
    "ExecuteTime": {
     "end_time": "2021-04-12T22:42:59.739985Z",
     "start_time": "2021-04-12T22:42:59.718659Z"
    }
   },
   "outputs": [
    {
     "data": {
      "text/plain": [
       "Sequential(\n",
       "  (0): Conv1d(\n",
       "    (net): SNCov1d(\n",
       "      (net): Sequential(\n",
       "        (0): Conv1d(2, 16, kernel_size=(3,), stride=(1,), padding=(1,))\n",
       "        (1): GELU()\n",
       "        (2): Conv1d(16, 16, kernel_size=(3,), stride=(1,), padding=(1,))\n",
       "        (3): GELU()\n",
       "        (4): Conv1d(16, 2, kernel_size=(3,), stride=(1,), padding=(1,))\n",
       "      )\n",
       "    )\n",
       "  )\n",
       "  (1): Conv1d(\n",
       "    (net): SNCov1d(\n",
       "      (net): Sequential(\n",
       "        (0): Conv1d(2, 16, kernel_size=(1,), stride=(1,))\n",
       "        (1): GELU()\n",
       "        (2): Conv1d(16, 16, kernel_size=(1,), stride=(1,))\n",
       "        (3): GELU()\n",
       "        (4): Conv1d(16, 2, kernel_size=(1,), stride=(1,))\n",
       "      )\n",
       "    )\n",
       "  )\n",
       "  (2): Conv1d(\n",
       "    (net): SNCov1d(\n",
       "      (net): Sequential(\n",
       "        (0): Conv1d(2, 16, kernel_size=(3,), stride=(1,), padding=(1,))\n",
       "        (1): GELU()\n",
       "        (2): Conv1d(16, 16, kernel_size=(3,), stride=(1,), padding=(1,))\n",
       "        (3): GELU()\n",
       "        (4): Conv1d(16, 2, kernel_size=(3,), stride=(1,), padding=(1,))\n",
       "      )\n",
       "    )\n",
       "  )\n",
       ")"
      ]
     },
     "execution_count": 84,
     "metadata": {},
     "output_type": "execute_result"
    }
   ],
   "source": [
    "model = iResNet.Sequential(iResNet.Conv1d(channel=2, kernel_size=3),\n",
    "                           iResNet.Conv1d(channel=2, kernel_size=1),\n",
    "                           iResNet.Conv1d(channel=2, kernel_size=3))\n",
    "model"
   ]
  },
  {
   "cell_type": "code",
   "execution_count": 85,
   "metadata": {
    "ExecuteTime": {
     "end_time": "2021-04-12T22:43:00.394851Z",
     "start_time": "2021-04-12T22:43:00.381085Z"
    }
   },
   "outputs": [
    {
     "data": {
      "text/plain": [
       "tensor([[[ 9.8334e-01,  2.0234e+00,  3.0385e+00,  4.2037e+00,  5.1804e+00],\n",
       "         [-1.1709e+00, -2.1974e+00, -3.2554e+00, -4.2121e+00, -5.1788e+00]],\n",
       "\n",
       "        [[ 1.0371e+00,  2.0080e+00, -2.1772e-03,  4.1299e+00,  5.2609e+00],\n",
       "         [-1.1364e+00, -2.1973e+00, -2.2076e-01, -4.2422e+00, -5.1010e+00]]],\n",
       "       grad_fn=<AddBackward0>)"
      ]
     },
     "execution_count": 85,
     "metadata": {},
     "output_type": "execute_result"
    }
   ],
   "source": [
    "x = torch.Tensor([[[1,2,3,4,5],[-1,-2,-3,-4,-5]], [[1,2,0,4,5],[-1,-2,0,-4,-5]]])\n",
    "x.requires_grad = True\n",
    "\n",
    "y, logp, logdet = model(x)\n",
    "y"
   ]
  },
  {
   "cell_type": "code",
   "execution_count": 86,
   "metadata": {
    "ExecuteTime": {
     "end_time": "2021-04-12T22:43:06.577360Z",
     "start_time": "2021-04-12T22:43:06.470605Z"
    }
   },
   "outputs": [
    {
     "data": {
      "text/plain": [
       "tensor([[[ 1.0000e+00,  2.0000e+00,  3.0000e+00,  4.0000e+00,  5.0000e+00],\n",
       "         [-1.0000e+00, -2.0000e+00, -3.0000e+00, -4.0000e+00, -5.0000e+00]],\n",
       "\n",
       "        [[ 1.0000e+00,  2.0000e+00,  1.4901e-08,  4.0000e+00,  5.0000e+00],\n",
       "         [-1.0000e+00, -2.0000e+00, -4.4703e-08, -4.0000e+00, -5.0000e+00]]])"
      ]
     },
     "execution_count": 86,
     "metadata": {},
     "output_type": "execute_result"
    }
   ],
   "source": [
    "model.inverse(y)"
   ]
  },
  {
   "cell_type": "markdown",
   "metadata": {},
   "source": [
    "# Conv2d"
   ]
  },
  {
   "cell_type": "code",
   "execution_count": 87,
   "metadata": {
    "ExecuteTime": {
     "end_time": "2021-04-12T22:43:12.312531Z",
     "start_time": "2021-04-12T22:43:12.306499Z"
    }
   },
   "outputs": [],
   "source": [
    "import numpy as np\n",
    "import matplotlib.pyplot as plt\n",
    "%matplotlib inline"
   ]
  },
  {
   "cell_type": "code",
   "execution_count": 108,
   "metadata": {
    "ExecuteTime": {
     "end_time": "2021-04-12T22:58:20.653950Z",
     "start_time": "2021-04-12T22:58:20.631311Z"
    }
   },
   "outputs": [],
   "source": [
    "model = iResNet.Sequential(iResNet.Conv2d(channel=3, kernel_size=3),\n",
    "                           iResNet.Conv2d(channel=3, kernel_size=3),\n",
    "                           iResNet.Conv2d(channel=3, kernel_size=3),\n",
    "                           iResNet.Conv2d(channel=3, kernel_size=3),\n",
    "                           iResNet.Conv2d(channel=3, kernel_size=3),\n",
    "                           iResNet.Conv2d(channel=3, kernel_size=3)\n",
    "                          )"
   ]
  },
  {
   "cell_type": "code",
   "execution_count": 132,
   "metadata": {
    "ExecuteTime": {
     "end_time": "2021-04-12T23:01:10.506962Z",
     "start_time": "2021-04-12T23:01:08.645363Z"
    }
   },
   "outputs": [],
   "source": [
    "optimizer = optim.Adam(model.parameters(), lr=0.01)\n",
    "\n",
    "for i in range(100):\n",
    "    optimizer.zero_grad()\n",
    "    x = torch.Tensor([[[[1,1,1],[0,1,0],[0,1,0]], [[0,1,0],[1,1,1],[0,1,0]], [[1,1,1],[0,1,0],[0,1,0]]]])\n",
    "    x.requires_grad = True\n",
    "    \n",
    "    target = torch.Tensor([[[[0,0,0],[0,1,0],[0,0,0]], [[0,0,0],[0,1,0],[0,0,0]],[[0,0,0],[0,1,0],[0,0,0]]]])\n",
    "    y, logp, logdet = model(x)\n",
    "    loss = nn.MSELoss()(y, target)\n",
    "    loss.backward()\n",
    "    \n",
    "    optimizer.step()"
   ]
  },
  {
   "cell_type": "code",
   "execution_count": 133,
   "metadata": {
    "ExecuteTime": {
     "end_time": "2021-04-12T23:01:11.196073Z",
     "start_time": "2021-04-12T23:01:11.161653Z"
    }
   },
   "outputs": [
    {
     "data": {
      "text/plain": [
       "tensor([[[[ 0.2899,  0.3433,  0.2977],\n",
       "          [-0.1113,  0.7035, -0.1242],\n",
       "          [-0.0705,  0.2673, -0.0586]],\n",
       "\n",
       "         [[ 0.7671,  0.2848,  0.7749],\n",
       "          [-0.6282,  0.6607, -0.6387],\n",
       "          [-0.2157,  0.2856, -0.2093]],\n",
       "\n",
       "         [[ 0.2909,  0.3424,  0.2900],\n",
       "          [-0.1082,  0.7183, -0.1129],\n",
       "          [-0.0880,  0.2404, -0.0784]]]], grad_fn=<AddBackward0>)"
      ]
     },
     "execution_count": 133,
     "metadata": {},
     "output_type": "execute_result"
    }
   ],
   "source": [
    "x = torch.Tensor([[[[1,1,1],[0,1,0],[0,1,0]], [[1,1,1],[0,1,0],[0,1,0]], [[1,1,1],[0,1,0],[0,1,0]]]])\n",
    "x.requires_grad = True\n",
    "\n",
    "y, logp, logdet = model(x)\n",
    "y"
   ]
  },
  {
   "cell_type": "code",
   "execution_count": 134,
   "metadata": {
    "ExecuteTime": {
     "end_time": "2021-04-12T23:01:12.156142Z",
     "start_time": "2021-04-12T23:01:12.070018Z"
    }
   },
   "outputs": [
    {
     "data": {
      "image/png": "[encoded data removed]",
      "text/plain": [
       "<Figure size 432x288 with 1 Axes>"
      ]
     },
     "metadata": {
      "needs_background": "light"
     },
     "output_type": "display_data"
    }
   ],
   "source": [
    "plt.imshow(1-x[0].transpose(0,2).detach())\n",
    "plt.title('x')\n",
    "#plt.savefig('cov2d_x.png')\n",
    "plt.show()"
   ]
  },
  {
   "cell_type": "code",
   "execution_count": 135,
   "metadata": {
    "ExecuteTime": {
     "end_time": "2021-04-12T23:01:12.990115Z",
     "start_time": "2021-04-12T23:01:12.910634Z"
    }
   },
   "outputs": [
    {
     "name": "stderr",
     "output_type": "stream",
     "text": [
      "Clipping input data to the valid range for imshow with RGB data ([0..1] for floats or [0..255] for integers).\n"
     ]
    },
    {
     "data": {
      "image/png": "[encoded data removed]",
      "text/plain": [
       "<Figure size 432x288 with 1 Axes>"
      ]
     },
     "metadata": {
      "needs_background": "light"
     },
     "output_type": "display_data"
    }
   ],
   "source": [
    "plt.imshow(1-y[0].transpose(0,2).detach())\n",
    "plt.title('$y=f(x)$')\n",
    "#plt.savefig('cov2d_y.png')\n",
    "plt.show()"
   ]
  },
  {
   "cell_type": "code",
   "execution_count": 136,
   "metadata": {
    "ExecuteTime": {
     "end_time": "2021-04-12T23:01:15.899411Z",
     "start_time": "2021-04-12T23:01:15.710752Z"
    }
   },
   "outputs": [
    {
     "data": {
      "text/plain": [
       "tensor([[[[ 1.0000e+00,  1.0000e+00,  1.0000e+00],\n",
       "          [ 1.4901e-08,  1.0000e+00,  0.0000e+00],\n",
       "          [-1.1176e-08,  1.0000e+00, -3.7253e-09]],\n",
       "\n",
       "         [[ 1.0000e+00,  1.0000e+00,  1.0000e+00],\n",
       "          [-3.7253e-08,  1.0000e+00,  7.4506e-09],\n",
       "          [-1.6764e-08,  1.0000e+00, -1.6764e-08]],\n",
       "\n",
       "         [[ 1.0000e+00,  1.0000e+00,  1.0000e+00],\n",
       "          [ 2.2352e-08,  1.0000e+00,  2.6077e-08],\n",
       "          [-7.4506e-09,  1.0000e+00, -2.2352e-08]]]])"
      ]
     },
     "execution_count": 136,
     "metadata": {},
     "output_type": "execute_result"
    }
   ],
   "source": [
    "xhat = model.inverse(y)\n",
    "xhat"
   ]
  },
  {
   "cell_type": "code",
   "execution_count": 137,
   "metadata": {
    "ExecuteTime": {
     "end_time": "2021-04-12T23:01:16.607860Z",
     "start_time": "2021-04-12T23:01:16.478921Z"
    }
   },
   "outputs": [
    {
     "name": "stderr",
     "output_type": "stream",
     "text": [
      "Clipping input data to the valid range for imshow with RGB data ([0..1] for floats or [0..255] for integers).\n"
     ]
    },
    {
     "data": {
      "image/png": "[encoded data removed]",
      "text/plain": [
       "<Figure size 432x288 with 1 Axes>"
      ]
     },
     "metadata": {
      "needs_background": "light"
     },
     "output_type": "display_data"
    }
   ],
   "source": [
    "plt.imshow(1-xhat[0].transpose(0,2).detach(), cmap='gray')\n",
    "plt.title('$\\hat x = f^{-1}(y)$')\n",
    "#plt.savefig('cov2d_x_hat.png')\n",
    "plt.show()"
   ]
  },
  {
   "cell_type": "code",
   "execution_count": 107,
   "metadata": {
    "ExecuteTime": {
     "end_time": "2021-04-12T22:50:40.225831Z",
     "start_time": "2021-04-12T22:50:39.981246Z"
    }
   },
   "outputs": [
    {
     "data": {
      "image/png": "[encoded data removed]",
      "text/plain": [
       "<Figure size 864x288 with 3 Axes>"
      ]
     },
     "metadata": {
      "needs_background": "light"
     },
     "output_type": "display_data"
    }
   ],
   "source": [
    "fig = plt.figure(figsize=(12,4))\n",
    "\n",
    "fig = plt.subplot(131)\n",
    "plt.imshow(1-x[0, 0].detach(), cmap='gray')\n",
    "plt.title('x')\n",
    "\n",
    "fig = plt.subplot(132)\n",
    "plt.imshow(1-y[0, 0].detach(), cmap='gray')\n",
    "plt.title('$y=f(x)$')\n",
    "\n",
    "fig = plt.subplot(133)\n",
    "plt.imshow(1-xhat[0, 0].detach(), cmap='gray')\n",
    "plt.title('$\\hat x = f^{-1}(y)$')\n",
    "\n",
    "#plt.savefig('../images/cov2d.png')\n",
    "plt.show()"
   ]
  },
  {
   "cell_type": "code",
   "execution_count": null,
   "metadata": {},
   "outputs": [],
   "source": []
  }
 ],
 "metadata": {
  "kernelspec": {
   "display_name": "Python 3",
   "language": "python",
   "name": "python3"
  },
  "language_info": {
   "codemirror_mode": {
    "name": "ipython",
    "version": 3
   },
   "file_extension": ".py",
   "mimetype": "text/x-python",
   "name": "python",
   "nbconvert_exporter": "python",
   "pygments_lexer": "ipython3",
   "version": "3.7.5"
  },
  "toc": {
   "base_numbering": 1,
   "nav_menu": {},
   "number_sections": true,
   "sideBar": true,
   "skip_h1_title": false,
   "title_cell": "Table of Contents",
   "title_sidebar": "Contents",
   "toc_cell": false,
   "toc_position": {},
   "toc_section_display": true,
   "toc_window_display": false
  }
 },
 "nbformat": 4,
 "nbformat_minor": 4
}
