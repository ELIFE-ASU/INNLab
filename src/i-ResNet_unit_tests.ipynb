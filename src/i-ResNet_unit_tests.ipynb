{
 "cells": [
  {
   "cell_type": "code",
   "execution_count": 1,
   "metadata": {
    "ExecuteTime": {
     "end_time": "2021-04-12T05:50:09.377929Z",
     "start_time": "2021-04-12T05:50:09.121998Z"
    }
   },
   "outputs": [
    {
     "data": {
      "text/plain": [
       "<module 'iResNet' from '/home/yanbo/Research/Lab/eLIFE/iResNetLab/src/iResNet.py'>"
      ]
     },
     "execution_count": 1,
     "metadata": {},
     "output_type": "execute_result"
    }
   ],
   "source": [
    "import iResNet\n",
    "\n",
    "import torch\n",
    "import torch.nn as nn\n",
    "import torch.utils.data as data\n",
    "import torch.optim as optim\n",
    "\n",
    "import importlib\n",
    "importlib.reload(iResNet)"
   ]
  },
  {
   "cell_type": "code",
   "execution_count": 12,
   "metadata": {
    "ExecuteTime": {
     "end_time": "2021-04-12T05:51:22.023380Z",
     "start_time": "2021-04-12T05:51:22.014801Z"
    }
   },
   "outputs": [
    {
     "name": "stdout",
     "output_type": "stream",
     "text": [
      "Sequential(\n",
      "  (0): iResNetFCN(\n",
      "    (net): SNFCN(\n",
      "      (g): Sequential(\n",
      "        (0): Linear(in_features=2, out_features=16, bias=True)\n",
      "        (1): GELU()\n",
      "        (2): Linear(in_features=16, out_features=16, bias=True)\n",
      "        (3): GELU()\n",
      "        (4): Linear(in_features=16, out_features=2, bias=True)\n",
      "      )\n",
      "    )\n",
      "    (noise): NormalDistribution()\n",
      "  )\n",
      "  (1): iResNetFCN(\n",
      "    (net): SNFCN(\n",
      "      (g): Sequential(\n",
      "        (0): Linear(in_features=2, out_features=4, bias=True)\n",
      "        (1): GELU()\n",
      "        (2): Linear(in_features=4, out_features=4, bias=True)\n",
      "        (3): GELU()\n",
      "        (4): Linear(in_features=4, out_features=2, bias=True)\n",
      "      )\n",
      "    )\n",
      "    (noise): NormalDistribution()\n",
      "  )\n",
      "  (2): iResNetFCN(\n",
      "    (net): SNFCN(\n",
      "      (g): Sequential(\n",
      "        (0): Linear(in_features=2, out_features=16, bias=True)\n",
      "        (1): GELU()\n",
      "        (2): Linear(in_features=16, out_features=16, bias=True)\n",
      "        (3): GELU()\n",
      "        (4): Linear(in_features=16, out_features=2, bias=True)\n",
      "      )\n",
      "    )\n",
      "    (noise): NormalDistribution()\n",
      "  )\n",
      ")\n"
     ]
    }
   ],
   "source": [
    "model = iResNet.Sequential(iResNet.iResNetFCN(2, 2),\n",
    "                           iResNet.iResNetFCN(2, 2, w=2),\n",
    "                           iResNet.iResNetFCN(2, 2))\n",
    "print(model)"
   ]
  },
  {
   "cell_type": "code",
   "execution_count": 13,
   "metadata": {
    "ExecuteTime": {
     "end_time": "2021-04-12T05:51:23.493216Z",
     "start_time": "2021-04-12T05:51:23.482767Z"
    }
   },
   "outputs": [
    {
     "data": {
      "text/plain": [
       "tensor([[-0.5160,  1.8480],\n",
       "        [ 0.4247,  3.6517],\n",
       "        [-4.1846,  1.5245]], grad_fn=<SliceBackward>)"
      ]
     },
     "execution_count": 13,
     "metadata": {},
     "output_type": "execute_result"
    }
   ],
   "source": [
    "x = torch.Tensor([[1,2], [3,4], [-3,1]])\n",
    "x.requires_grad = True\n",
    "model.train()\n",
    "\n",
    "y, p, logdet = model(x)\n",
    "y"
   ]
  },
  {
   "cell_type": "code",
   "execution_count": 14,
   "metadata": {
    "ExecuteTime": {
     "end_time": "2021-04-12T05:51:24.344714Z",
     "start_time": "2021-04-12T05:51:24.337371Z"
    }
   },
   "outputs": [
    {
     "data": {
      "text/plain": [
       "tensor([[-0.5160,  1.8480],\n",
       "        [ 0.4247,  3.6517],\n",
       "        [-3.0606,  1.3838]], grad_fn=<SliceBackward>)"
      ]
     },
     "execution_count": 14,
     "metadata": {},
     "output_type": "execute_result"
    }
   ],
   "source": [
    "x = torch.Tensor([[1,2], [3,4], [-2, 1]])\n",
    "x.requires_grad = True\n",
    "model.eval()\n",
    "\n",
    "y = model(x)\n",
    "y"
   ]
  },
  {
   "cell_type": "code",
   "execution_count": 15,
   "metadata": {
    "ExecuteTime": {
     "end_time": "2021-04-12T05:51:25.890032Z",
     "start_time": "2021-04-12T05:51:25.838947Z"
    }
   },
   "outputs": [
    {
     "data": {
      "text/plain": [
       "tensor([[ 1.0000,  2.0000],\n",
       "        [ 3.0000,  4.0000],\n",
       "        [-2.0000,  1.0000]])"
      ]
     },
     "execution_count": 15,
     "metadata": {},
     "output_type": "execute_result"
    }
   ],
   "source": [
    "model.inverse(y.detach())"
   ]
  },
  {
   "cell_type": "code",
   "execution_count": null,
   "metadata": {},
   "outputs": [],
   "source": []
  }
 ],
 "metadata": {
  "kernelspec": {
   "display_name": "Python 3",
   "language": "python",
   "name": "python3"
  },
  "language_info": {
   "codemirror_mode": {
    "name": "ipython",
    "version": 3
   },
   "file_extension": ".py",
   "mimetype": "text/x-python",
   "name": "python",
   "nbconvert_exporter": "python",
   "pygments_lexer": "ipython3",
   "version": "3.7.5"
  },
  "toc": {
   "base_numbering": 1,
   "nav_menu": {},
   "number_sections": true,
   "sideBar": true,
   "skip_h1_title": false,
   "title_cell": "Table of Contents",
   "title_sidebar": "Contents",
   "toc_cell": false,
   "toc_position": {},
   "toc_section_display": true,
   "toc_window_display": false
  }
 },
 "nbformat": 4,
 "nbformat_minor": 4
}
