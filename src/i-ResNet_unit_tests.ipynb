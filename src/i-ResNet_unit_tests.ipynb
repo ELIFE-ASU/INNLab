{
 "cells": [
  {
   "cell_type": "code",
   "execution_count": 12,
   "metadata": {
    "ExecuteTime": {
     "end_time": "2021-04-12T21:47:20.319912Z",
     "start_time": "2021-04-12T21:47:20.312251Z"
    }
   },
   "outputs": [
    {
     "data": {
      "text/plain": [
       "<module 'iResNet' from '/home/yanbo/Research/Lab/eLIFE/iResNetLab/src/iResNet.py'>"
      ]
     },
     "execution_count": 12,
     "metadata": {},
     "output_type": "execute_result"
    }
   ],
   "source": [
    "import iResNet\n",
    "\n",
    "import torch\n",
    "import torch.nn as nn\n",
    "import torch.utils.data as data\n",
    "import torch.optim as optim\n",
    "\n",
    "import importlib\n",
    "importlib.reload(iResNet)"
   ]
  },
  {
   "cell_type": "markdown",
   "metadata": {},
   "source": [
    "## FCN"
   ]
  },
  {
   "cell_type": "code",
   "execution_count": 9,
   "metadata": {
    "ExecuteTime": {
     "end_time": "2021-04-12T21:02:17.976933Z",
     "start_time": "2021-04-12T21:02:17.965942Z"
    }
   },
   "outputs": [
    {
     "data": {
      "text/plain": [
       "FCN(\n",
       "  (net): SNFCN(\n",
       "    (g): Sequential(\n",
       "      (0): Linear(in_features=2, out_features=16, bias=True)\n",
       "      (1): GELU()\n",
       "      (2): Linear(in_features=16, out_features=16, bias=True)\n",
       "      (3): GELU()\n",
       "      (4): Linear(in_features=16, out_features=2, bias=True)\n",
       "    )\n",
       "  )\n",
       "  (noise): NormalDistribution()\n",
       ")"
      ]
     },
     "execution_count": 9,
     "metadata": {},
     "output_type": "execute_result"
    }
   ],
   "source": [
    "model = iResNet.FCN(2, 1)\n",
    "model"
   ]
  },
  {
   "cell_type": "code",
   "execution_count": 10,
   "metadata": {
    "ExecuteTime": {
     "end_time": "2021-04-12T21:02:19.804853Z",
     "start_time": "2021-04-12T21:02:19.797025Z"
    }
   },
   "outputs": [
    {
     "data": {
      "text/plain": [
       "tensor([[0.9987],\n",
       "        [2.9998]], grad_fn=<SliceBackward>)"
      ]
     },
     "execution_count": 10,
     "metadata": {},
     "output_type": "execute_result"
    }
   ],
   "source": [
    "x = torch.Tensor([[1,2], [3,4]])\n",
    "x.requires_grad = True\n",
    "model.train()\n",
    "\n",
    "y, p, logdet = model(x)\n",
    "y"
   ]
  },
  {
   "cell_type": "code",
   "execution_count": 11,
   "metadata": {
    "ExecuteTime": {
     "end_time": "2021-04-12T21:02:21.228113Z",
     "start_time": "2021-04-12T21:02:21.204803Z"
    }
   },
   "outputs": [
    {
     "data": {
      "text/plain": [
       "tensor([[ 1.0344, -1.7631],\n",
       "        [ 3.0441,  2.0256]])"
      ]
     },
     "execution_count": 11,
     "metadata": {},
     "output_type": "execute_result"
    }
   ],
   "source": [
    "model.inverse(y.detach())"
   ]
  },
  {
   "cell_type": "markdown",
   "metadata": {},
   "source": [
    "## Sequential"
   ]
  },
  {
   "cell_type": "code",
   "execution_count": 27,
   "metadata": {
    "ExecuteTime": {
     "end_time": "2021-04-12T06:21:11.733757Z",
     "start_time": "2021-04-12T06:21:11.725619Z"
    }
   },
   "outputs": [
    {
     "name": "stdout",
     "output_type": "stream",
     "text": [
      "Sequential(\n",
      "  (0): FCN(\n",
      "    (net): SNFCN(\n",
      "      (g): Sequential(\n",
      "        (0): Linear(in_features=2, out_features=16, bias=True)\n",
      "        (1): GELU()\n",
      "        (2): Linear(in_features=16, out_features=16, bias=True)\n",
      "        (3): GELU()\n",
      "        (4): Linear(in_features=16, out_features=2, bias=True)\n",
      "      )\n",
      "    )\n",
      "    (noise): NormalDistribution()\n",
      "  )\n",
      "  (1): FCN(\n",
      "    (net): SNFCN(\n",
      "      (g): Sequential(\n",
      "        (0): Linear(in_features=2, out_features=16, bias=True)\n",
      "        (1): GELU()\n",
      "        (2): Linear(in_features=16, out_features=16, bias=True)\n",
      "        (3): GELU()\n",
      "        (4): Linear(in_features=16, out_features=2, bias=True)\n",
      "      )\n",
      "    )\n",
      "    (noise): NormalDistribution()\n",
      "  )\n",
      "  (2): FCN(\n",
      "    (net): SNFCN(\n",
      "      (g): Sequential(\n",
      "        (0): Linear(in_features=2, out_features=16, bias=True)\n",
      "        (1): GELU()\n",
      "        (2): Linear(in_features=16, out_features=16, bias=True)\n",
      "        (3): GELU()\n",
      "        (4): Linear(in_features=16, out_features=2, bias=True)\n",
      "      )\n",
      "    )\n",
      "    (noise): NormalDistribution()\n",
      "  )\n",
      ")\n"
     ]
    }
   ],
   "source": [
    "model = iResNet.Sequential(iResNet.FCN(2, 2),\n",
    "                           iResNet.FCN(2, 2),\n",
    "                           iResNet.FCN(2, 2))\n",
    "print(model)"
   ]
  },
  {
   "cell_type": "code",
   "execution_count": 18,
   "metadata": {
    "ExecuteTime": {
     "end_time": "2021-04-12T06:00:34.595187Z",
     "start_time": "2021-04-12T06:00:34.585369Z"
    }
   },
   "outputs": [
    {
     "data": {
      "text/plain": [
       "tensor([[ 0.9652,  2.7492],\n",
       "        [ 3.3913,  4.7129],\n",
       "        [-2.4317,  1.4621]], grad_fn=<SliceBackward>)"
      ]
     },
     "execution_count": 18,
     "metadata": {},
     "output_type": "execute_result"
    }
   ],
   "source": [
    "x = torch.Tensor([[1,2], [3,4], [-3,1]])\n",
    "x.requires_grad = True\n",
    "model.train()\n",
    "\n",
    "y, p, logdet = model(x)\n",
    "y"
   ]
  },
  {
   "cell_type": "code",
   "execution_count": 19,
   "metadata": {
    "ExecuteTime": {
     "end_time": "2021-04-12T06:00:35.645855Z",
     "start_time": "2021-04-12T06:00:35.638600Z"
    }
   },
   "outputs": [
    {
     "data": {
      "text/plain": [
       "tensor([[ 0.9652,  2.7492],\n",
       "        [ 3.3913,  4.7129],\n",
       "        [-1.6966,  1.5556]], grad_fn=<SliceBackward>)"
      ]
     },
     "execution_count": 19,
     "metadata": {},
     "output_type": "execute_result"
    }
   ],
   "source": [
    "x = torch.Tensor([[1,2], [3,4], [-2, 1]])\n",
    "x.requires_grad = True\n",
    "model.eval()\n",
    "\n",
    "y = model(x)\n",
    "y"
   ]
  },
  {
   "cell_type": "code",
   "execution_count": 20,
   "metadata": {
    "ExecuteTime": {
     "end_time": "2021-04-12T06:00:36.598052Z",
     "start_time": "2021-04-12T06:00:36.546902Z"
    }
   },
   "outputs": [
    {
     "data": {
      "text/plain": [
       "tensor([[ 1.0000,  2.0000],\n",
       "        [ 3.0000,  4.0000],\n",
       "        [-2.0000,  1.0000]])"
      ]
     },
     "execution_count": 20,
     "metadata": {},
     "output_type": "execute_result"
    }
   ],
   "source": [
    "model.inverse(y.detach())"
   ]
  },
  {
   "cell_type": "markdown",
   "metadata": {},
   "source": [
    "# Conv1d"
   ]
  },
  {
   "cell_type": "code",
   "execution_count": 2,
   "metadata": {
    "ExecuteTime": {
     "end_time": "2021-04-12T20:05:01.002961Z",
     "start_time": "2021-04-12T20:05:00.988271Z"
    }
   },
   "outputs": [
    {
     "data": {
      "text/plain": [
       "Sequential(\n",
       "  (0): Conv1d(\n",
       "    (net): SNCov1d(\n",
       "      (net): Sequential(\n",
       "        (0): Conv1d(2, 16, kernel_size=(3,), stride=(1,), padding=(1,))\n",
       "        (1): GELU()\n",
       "        (2): Conv1d(16, 16, kernel_size=(3,), stride=(1,), padding=(1,))\n",
       "        (3): GELU()\n",
       "        (4): Conv1d(16, 2, kernel_size=(3,), stride=(1,), padding=(1,))\n",
       "      )\n",
       "    )\n",
       "  )\n",
       "  (1): Conv1d(\n",
       "    (net): SNCov1d(\n",
       "      (net): Sequential(\n",
       "        (0): Conv1d(2, 16, kernel_size=(1,), stride=(1,))\n",
       "        (1): GELU()\n",
       "        (2): Conv1d(16, 16, kernel_size=(1,), stride=(1,))\n",
       "        (3): GELU()\n",
       "        (4): Conv1d(16, 2, kernel_size=(1,), stride=(1,))\n",
       "      )\n",
       "    )\n",
       "  )\n",
       "  (2): Conv1d(\n",
       "    (net): SNCov1d(\n",
       "      (net): Sequential(\n",
       "        (0): Conv1d(2, 16, kernel_size=(3,), stride=(1,), padding=(1,))\n",
       "        (1): GELU()\n",
       "        (2): Conv1d(16, 16, kernel_size=(3,), stride=(1,), padding=(1,))\n",
       "        (3): GELU()\n",
       "        (4): Conv1d(16, 2, kernel_size=(3,), stride=(1,), padding=(1,))\n",
       "      )\n",
       "    )\n",
       "  )\n",
       ")"
      ]
     },
     "execution_count": 2,
     "metadata": {},
     "output_type": "execute_result"
    }
   ],
   "source": [
    "#model = Conv1d(2, 3)\n",
    "model = iResNet.Sequential(iResNet.Conv1d(channel=2, kernel_size=3),\n",
    "                           iResNet.Conv1d(channel=2, kernel_size=1),\n",
    "                           iResNet.Conv1d(channel=2, kernel_size=3))\n",
    "model"
   ]
  },
  {
   "cell_type": "code",
   "execution_count": 7,
   "metadata": {
    "ExecuteTime": {
     "end_time": "2021-04-12T20:06:40.292962Z",
     "start_time": "2021-04-12T20:06:40.267223Z"
    }
   },
   "outputs": [
    {
     "data": {
      "text/plain": [
       "tensor([[[ 0.9487,  1.8784,  2.7273,  3.6926,  4.6764],\n",
       "         [-1.1954, -2.2772, -3.3897, -4.4579, -5.3149]],\n",
       "\n",
       "        [[ 0.9672,  1.9152, -0.1993,  3.7975,  4.6542],\n",
       "         [-1.1567, -2.2055, -0.2905, -4.4541, -5.3364]]],\n",
       "       grad_fn=<AddBackward0>)"
      ]
     },
     "execution_count": 7,
     "metadata": {},
     "output_type": "execute_result"
    }
   ],
   "source": [
    "x = torch.Tensor([[[1,2,3,4,5],[-1,-2,-3,-4,-5]], [[1,2,0,4,5],[-1,-2,0,-4,-5]]])\n",
    "x.requires_grad = True\n",
    "\n",
    "y, logp, logdet = model(x)\n",
    "y"
   ]
  },
  {
   "cell_type": "code",
   "execution_count": 8,
   "metadata": {
    "ExecuteTime": {
     "end_time": "2021-04-12T20:06:44.673386Z",
     "start_time": "2021-04-12T20:06:44.580618Z"
    }
   },
   "outputs": [
    {
     "data": {
      "text/plain": [
       "tensor([[[ 1.0000e+00,  2.0000e+00,  3.0000e+00,  4.0000e+00,  5.0000e+00],\n",
       "         [-1.0000e+00, -2.0000e+00, -3.0000e+00, -4.0000e+00, -5.0000e+00]],\n",
       "\n",
       "        [[ 1.0000e+00,  2.0000e+00, -1.4901e-08,  4.0000e+00,  5.0000e+00],\n",
       "         [-1.0000e+00, -2.0000e+00, -7.4506e-09, -4.0000e+00, -5.0000e+00]]])"
      ]
     },
     "execution_count": 8,
     "metadata": {},
     "output_type": "execute_result"
    }
   ],
   "source": [
    "model.inverse(y)"
   ]
  },
  {
   "cell_type": "markdown",
   "metadata": {},
   "source": [
    "# Conv2d"
   ]
  },
  {
   "cell_type": "code",
   "execution_count": 17,
   "metadata": {
    "ExecuteTime": {
     "end_time": "2021-04-12T21:49:03.325405Z",
     "start_time": "2021-04-12T21:49:03.213835Z"
    }
   },
   "outputs": [],
   "source": [
    "import numpy as np\n",
    "import matplotlib.pyplot as plt\n",
    "%matplotlib inline"
   ]
  },
  {
   "cell_type": "code",
   "execution_count": 52,
   "metadata": {
    "ExecuteTime": {
     "end_time": "2021-04-12T21:52:56.551735Z",
     "start_time": "2021-04-12T21:52:56.535916Z"
    }
   },
   "outputs": [],
   "source": [
    "model = iResNet.Sequential(iResNet.Conv2d(channel=2, kernel_size=3),\n",
    "                           iResNet.Conv2d(channel=2, kernel_size=3),\n",
    "                           iResNet.Conv2d(channel=2, kernel_size=3),\n",
    "                           iResNet.Conv2d(channel=2, kernel_size=3),\n",
    "                           iResNet.Conv2d(channel=2, kernel_size=3),\n",
    "                           iResNet.Conv2d(channel=2, kernel_size=3)\n",
    "                          )"
   ]
  },
  {
   "cell_type": "code",
   "execution_count": 81,
   "metadata": {
    "ExecuteTime": {
     "end_time": "2021-04-12T21:57:08.118552Z",
     "start_time": "2021-04-12T21:57:07.911765Z"
    }
   },
   "outputs": [],
   "source": [
    "optimizer = optim.Adam(model.parameters(), lr=0.01)\n",
    "\n",
    "for i in range(10):\n",
    "    optimizer.zero_grad()\n",
    "    x = torch.Tensor([[[[1,1,1],[0,1,0],[0,1,0]], [[0,1,0],[1,1,1],[0,1,0]]]])\n",
    "    x.requires_grad = True\n",
    "    \n",
    "    target = torch.Tensor([[[[0,0,0],[0,1,0],[0,0,0]], [[0,0,0],[0,1,0],[0,0,0]]]])\n",
    "    y, logp, logdet = model(x)\n",
    "    loss = nn.MSELoss()(y, target)\n",
    "    loss.backward()\n",
    "    \n",
    "    optimizer.step()"
   ]
  },
  {
   "cell_type": "code",
   "execution_count": 82,
   "metadata": {
    "ExecuteTime": {
     "end_time": "2021-04-12T21:57:09.870729Z",
     "start_time": "2021-04-12T21:57:09.847695Z"
    }
   },
   "outputs": [
    {
     "data": {
      "text/plain": [
       "tensor([[[[ 0.0127, -0.0711, -0.0288],\n",
       "          [-0.0796,  1.0824, -0.0712],\n",
       "          [ 0.0705,  0.0187,  0.0712]],\n",
       "\n",
       "         [[-0.0712,  0.2428, -0.0610],\n",
       "          [ 0.1734,  1.0138,  0.1475],\n",
       "          [-0.0160,  0.2151, -0.0242]]]], grad_fn=<AddBackward0>)"
      ]
     },
     "execution_count": 82,
     "metadata": {},
     "output_type": "execute_result"
    }
   ],
   "source": [
    "x = torch.Tensor([[[[1,1,1],[0,1,0],[0,1,0]], [[0,1,0],[1,1,1],[0,1,0]]]])\n",
    "x.requires_grad = True\n",
    "\n",
    "y, logp, logdet = model(x)\n",
    "y"
   ]
  },
  {
   "cell_type": "code",
   "execution_count": 93,
   "metadata": {
    "ExecuteTime": {
     "end_time": "2021-04-12T21:59:06.420082Z",
     "start_time": "2021-04-12T21:59:06.316398Z"
    }
   },
   "outputs": [
    {
     "data": {
      "image/png": "[encoded data removed]",
      "text/plain": [
       "<Figure size 432x288 with 1 Axes>"
      ]
     },
     "metadata": {
      "needs_background": "light"
     },
     "output_type": "display_data"
    }
   ],
   "source": [
    "plt.imshow(1-x[0, 0].detach(), cmap='gray')\n",
    "plt.title('x')\n",
    "plt.savefig('cov2d_x.png')\n",
    "plt.show()"
   ]
  },
  {
   "cell_type": "code",
   "execution_count": 94,
   "metadata": {
    "ExecuteTime": {
     "end_time": "2021-04-12T21:59:27.998992Z",
     "start_time": "2021-04-12T21:59:27.807340Z"
    }
   },
   "outputs": [
    {
     "data": {
      "image/png": "[encoded data removed]",
      "text/plain": [
       "<Figure size 432x288 with 1 Axes>"
      ]
     },
     "metadata": {
      "needs_background": "light"
     },
     "output_type": "display_data"
    }
   ],
   "source": [
    "plt.imshow(1-y[0, 1].detach(), cmap='gray')\n",
    "plt.title('$y=f(x)$')\n",
    "plt.savefig('cov2d_y.png')\n",
    "plt.show()"
   ]
  },
  {
   "cell_type": "code",
   "execution_count": 91,
   "metadata": {
    "ExecuteTime": {
     "end_time": "2021-04-12T21:58:40.034192Z",
     "start_time": "2021-04-12T21:58:39.860198Z"
    }
   },
   "outputs": [
    {
     "data": {
      "text/plain": [
       "tensor([[[[ 1.0000e+00,  1.0000e+00,  1.0000e+00],\n",
       "          [-8.9407e-08,  1.0000e+00, -3.5390e-08],\n",
       "          [ 1.8626e-07,  1.0000e+00,  1.6391e-07]],\n",
       "\n",
       "         [[ 7.4506e-08,  1.0000e+00,  2.9802e-08],\n",
       "          [ 1.0000e+00,  1.0000e+00,  1.0000e+00],\n",
       "          [ 7.4506e-09,  1.0000e+00,  1.4901e-08]]]])"
      ]
     },
     "execution_count": 91,
     "metadata": {},
     "output_type": "execute_result"
    }
   ],
   "source": [
    "xhat = model.inverse(y)\n",
    "xhat"
   ]
  },
  {
   "cell_type": "code",
   "execution_count": 96,
   "metadata": {
    "ExecuteTime": {
     "end_time": "2021-04-12T21:59:48.023406Z",
     "start_time": "2021-04-12T21:59:47.913449Z"
    }
   },
   "outputs": [
    {
     "data": {
      "image/png": "[encoded data removed]",
      "text/plain": [
       "<Figure size 432x288 with 1 Axes>"
      ]
     },
     "metadata": {
      "needs_background": "light"
     },
     "output_type": "display_data"
    }
   ],
   "source": [
    "plt.imshow(1-xhat[0, 0].detach(), cmap='gray')\n",
    "plt.title('$\\hat x = f^{-1}(y)$')\n",
    "plt.savefig('cov2d_x_hat.png')\n",
    "plt.show()"
   ]
  },
  {
   "cell_type": "code",
   "execution_count": 101,
   "metadata": {
    "ExecuteTime": {
     "end_time": "2021-04-12T22:03:54.295303Z",
     "start_time": "2021-04-12T22:03:54.018776Z"
    }
   },
   "outputs": [
    {
     "data": {
      "image/png": "[encoded data removed]",
      "text/plain": [
       "<Figure size 864x288 with 3 Axes>"
      ]
     },
     "metadata": {
      "needs_background": "light"
     },
     "output_type": "display_data"
    }
   ],
   "source": [
    "fig = plt.figure(figsize=(12,4))\n",
    "\n",
    "fig = plt.subplot(131)\n",
    "plt.imshow(1-x[0, 0].detach(), cmap='gray')\n",
    "plt.title('x')\n",
    "\n",
    "fig = plt.subplot(132)\n",
    "plt.imshow(1-y[0, 1].detach(), cmap='gray')\n",
    "plt.title('$y=f(x)$')\n",
    "\n",
    "fig = plt.subplot(133)\n",
    "plt.imshow(1-xhat[0, 0].detach(), cmap='gray')\n",
    "plt.title('$\\hat x = f^{-1}(y)$')\n",
    "\n",
    "plt.savefig('cov2d.png')\n",
    "plt.show()"
   ]
  },
  {
   "cell_type": "code",
   "execution_count": null,
   "metadata": {},
   "outputs": [],
   "source": []
  }
 ],
 "metadata": {
  "kernelspec": {
   "display_name": "Python 3",
   "language": "python",
   "name": "python3"
  },
  "language_info": {
   "codemirror_mode": {
    "name": "ipython",
    "version": 3
   },
   "file_extension": ".py",
   "mimetype": "text/x-python",
   "name": "python",
   "nbconvert_exporter": "python",
   "pygments_lexer": "ipython3",
   "version": "3.7.5"
  },
  "toc": {
   "base_numbering": 1,
   "nav_menu": {},
   "number_sections": true,
   "sideBar": true,
   "skip_h1_title": false,
   "title_cell": "Table of Contents",
   "title_sidebar": "Contents",
   "toc_cell": false,
   "toc_position": {},
   "toc_section_display": true,
   "toc_window_display": false
  }
 },
 "nbformat": 4,
 "nbformat_minor": 4
}
